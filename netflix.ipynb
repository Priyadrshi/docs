{
  "nbformat": 4,
  "nbformat_minor": 0,
  "metadata": {
    "colab": {
      "provenance": [],
      "authorship_tag": "ABX9TyN9oE1qFtSHUAlSIkDo3VS6",
      "include_colab_link": true
    },
    "kernelspec": {
      "name": "python3",
      "display_name": "Python 3"
    },
    "language_info": {
      "name": "python"
    }
  },
  "cells": [
    {
      "cell_type": "markdown",
      "metadata": {
        "id": "view-in-github",
        "colab_type": "text"
      },
      "source": [
        "<a href=\"https://colab.research.google.com/github/Priyadrshi/docs/blob/main/netflix.ipynb\" target=\"_parent\"><img src=\"https://colab.research.google.com/assets/colab-badge.svg\" alt=\"Open In Colab\"/></a>"
      ]
    },
    {
      "cell_type": "code",
      "execution_count": null,
      "metadata": {
        "id": "aSgzwqMQ8VoU"
      },
      "outputs": [],
      "source": [
        "import pandas as pd\n",
        "df=pd.read_csv('https://raw.githubusercontent.com/Priyadrshi/docs/main/netflix_titles.csv')\n"
      ]
    },
    {
      "cell_type": "code",
      "source": [
        "\n",
        "\n",
        "import numpy as np # linear algebra\n",
        "import pandas as pd # data processing, CSV file I/O (e.g. pd.read_csv)import seaborn as sns\n",
        "import matplotlib.pyplot as plt\n",
        "import seaborn as sns\n",
        "import matplotlib.pyplot as plt\n",
        "\n"
      ],
      "metadata": {
        "id": "3-Q4MilA_zA1"
      },
      "execution_count": null,
      "outputs": []
    },
    {
      "cell_type": "code",
      "source": [
        "df.head()\n",
        "df.tail()"
      ],
      "metadata": {
        "colab": {
          "base_uri": "https://localhost:8080/",
          "height": 424
        },
        "id": "QIVcJnxu8tc6",
        "outputId": "7994b7ae-a951-4905-c9fc-b1fb6484b5b4"
      },
      "execution_count": null,
      "outputs": [
        {
          "output_type": "execute_result",
          "data": {
            "text/plain": [
              "     show_id     type        title         director  \\\n",
              "8802   s8803    Movie       Zodiac    David Fincher   \n",
              "8803   s8804  TV Show  Zombie Dumb              NaN   \n",
              "8804   s8805    Movie   Zombieland  Ruben Fleischer   \n",
              "8805   s8806    Movie         Zoom     Peter Hewitt   \n",
              "8806   s8807    Movie       Zubaan      Mozez Singh   \n",
              "\n",
              "                                                   cast        country  \\\n",
              "8802  Mark Ruffalo, Jake Gyllenhaal, Robert Downey J...  United States   \n",
              "8803                                                NaN            NaN   \n",
              "8804  Jesse Eisenberg, Woody Harrelson, Emma Stone, ...  United States   \n",
              "8805  Tim Allen, Courteney Cox, Chevy Chase, Kate Ma...  United States   \n",
              "8806  Vicky Kaushal, Sarah-Jane Dias, Raaghav Chanan...          India   \n",
              "\n",
              "             date_added  release_year rating   duration  \\\n",
              "8802  November 20, 2019          2007      R    158 min   \n",
              "8803       July 1, 2019          2018  TV-Y7  2 Seasons   \n",
              "8804   November 1, 2019          2009      R     88 min   \n",
              "8805   January 11, 2020          2006     PG     88 min   \n",
              "8806      March 2, 2019          2015  TV-14    111 min   \n",
              "\n",
              "                                           listed_in  \\\n",
              "8802                  Cult Movies, Dramas, Thrillers   \n",
              "8803          Kids' TV, Korean TV Shows, TV Comedies   \n",
              "8804                         Comedies, Horror Movies   \n",
              "8805              Children & Family Movies, Comedies   \n",
              "8806  Dramas, International Movies, Music & Musicals   \n",
              "\n",
              "                                            description  \n",
              "8802  A political cartoonist, a crime reporter and a...  \n",
              "8803  While living alone in a spooky town, a young g...  \n",
              "8804  Looking to survive in a world taken over by zo...  \n",
              "8805  Dragged from civilian life, a former superhero...  \n",
              "8806  A scrappy but poor boy worms his way into a ty...  "
            ],
            "text/html": [
              "\n",
              "  <div id=\"df-bd3e34ad-cbae-461c-92c1-7eb275de786f\">\n",
              "    <div class=\"colab-df-container\">\n",
              "      <div>\n",
              "<style scoped>\n",
              "    .dataframe tbody tr th:only-of-type {\n",
              "        vertical-align: middle;\n",
              "    }\n",
              "\n",
              "    .dataframe tbody tr th {\n",
              "        vertical-align: top;\n",
              "    }\n",
              "\n",
              "    .dataframe thead th {\n",
              "        text-align: right;\n",
              "    }\n",
              "</style>\n",
              "<table border=\"1\" class=\"dataframe\">\n",
              "  <thead>\n",
              "    <tr style=\"text-align: right;\">\n",
              "      <th></th>\n",
              "      <th>show_id</th>\n",
              "      <th>type</th>\n",
              "      <th>title</th>\n",
              "      <th>director</th>\n",
              "      <th>cast</th>\n",
              "      <th>country</th>\n",
              "      <th>date_added</th>\n",
              "      <th>release_year</th>\n",
              "      <th>rating</th>\n",
              "      <th>duration</th>\n",
              "      <th>listed_in</th>\n",
              "      <th>description</th>\n",
              "    </tr>\n",
              "  </thead>\n",
              "  <tbody>\n",
              "    <tr>\n",
              "      <th>8802</th>\n",
              "      <td>s8803</td>\n",
              "      <td>Movie</td>\n",
              "      <td>Zodiac</td>\n",
              "      <td>David Fincher</td>\n",
              "      <td>Mark Ruffalo, Jake Gyllenhaal, Robert Downey J...</td>\n",
              "      <td>United States</td>\n",
              "      <td>November 20, 2019</td>\n",
              "      <td>2007</td>\n",
              "      <td>R</td>\n",
              "      <td>158 min</td>\n",
              "      <td>Cult Movies, Dramas, Thrillers</td>\n",
              "      <td>A political cartoonist, a crime reporter and a...</td>\n",
              "    </tr>\n",
              "    <tr>\n",
              "      <th>8803</th>\n",
              "      <td>s8804</td>\n",
              "      <td>TV Show</td>\n",
              "      <td>Zombie Dumb</td>\n",
              "      <td>NaN</td>\n",
              "      <td>NaN</td>\n",
              "      <td>NaN</td>\n",
              "      <td>July 1, 2019</td>\n",
              "      <td>2018</td>\n",
              "      <td>TV-Y7</td>\n",
              "      <td>2 Seasons</td>\n",
              "      <td>Kids' TV, Korean TV Shows, TV Comedies</td>\n",
              "      <td>While living alone in a spooky town, a young g...</td>\n",
              "    </tr>\n",
              "    <tr>\n",
              "      <th>8804</th>\n",
              "      <td>s8805</td>\n",
              "      <td>Movie</td>\n",
              "      <td>Zombieland</td>\n",
              "      <td>Ruben Fleischer</td>\n",
              "      <td>Jesse Eisenberg, Woody Harrelson, Emma Stone, ...</td>\n",
              "      <td>United States</td>\n",
              "      <td>November 1, 2019</td>\n",
              "      <td>2009</td>\n",
              "      <td>R</td>\n",
              "      <td>88 min</td>\n",
              "      <td>Comedies, Horror Movies</td>\n",
              "      <td>Looking to survive in a world taken over by zo...</td>\n",
              "    </tr>\n",
              "    <tr>\n",
              "      <th>8805</th>\n",
              "      <td>s8806</td>\n",
              "      <td>Movie</td>\n",
              "      <td>Zoom</td>\n",
              "      <td>Peter Hewitt</td>\n",
              "      <td>Tim Allen, Courteney Cox, Chevy Chase, Kate Ma...</td>\n",
              "      <td>United States</td>\n",
              "      <td>January 11, 2020</td>\n",
              "      <td>2006</td>\n",
              "      <td>PG</td>\n",
              "      <td>88 min</td>\n",
              "      <td>Children &amp; Family Movies, Comedies</td>\n",
              "      <td>Dragged from civilian life, a former superhero...</td>\n",
              "    </tr>\n",
              "    <tr>\n",
              "      <th>8806</th>\n",
              "      <td>s8807</td>\n",
              "      <td>Movie</td>\n",
              "      <td>Zubaan</td>\n",
              "      <td>Mozez Singh</td>\n",
              "      <td>Vicky Kaushal, Sarah-Jane Dias, Raaghav Chanan...</td>\n",
              "      <td>India</td>\n",
              "      <td>March 2, 2019</td>\n",
              "      <td>2015</td>\n",
              "      <td>TV-14</td>\n",
              "      <td>111 min</td>\n",
              "      <td>Dramas, International Movies, Music &amp; Musicals</td>\n",
              "      <td>A scrappy but poor boy worms his way into a ty...</td>\n",
              "    </tr>\n",
              "  </tbody>\n",
              "</table>\n",
              "</div>\n",
              "      <button class=\"colab-df-convert\" onclick=\"convertToInteractive('df-bd3e34ad-cbae-461c-92c1-7eb275de786f')\"\n",
              "              title=\"Convert this dataframe to an interactive table.\"\n",
              "              style=\"display:none;\">\n",
              "        \n",
              "  <svg xmlns=\"http://www.w3.org/2000/svg\" height=\"24px\"viewBox=\"0 0 24 24\"\n",
              "       width=\"24px\">\n",
              "    <path d=\"M0 0h24v24H0V0z\" fill=\"none\"/>\n",
              "    <path d=\"M18.56 5.44l.94 2.06.94-2.06 2.06-.94-2.06-.94-.94-2.06-.94 2.06-2.06.94zm-11 1L8.5 8.5l.94-2.06 2.06-.94-2.06-.94L8.5 2.5l-.94 2.06-2.06.94zm10 10l.94 2.06.94-2.06 2.06-.94-2.06-.94-.94-2.06-.94 2.06-2.06.94z\"/><path d=\"M17.41 7.96l-1.37-1.37c-.4-.4-.92-.59-1.43-.59-.52 0-1.04.2-1.43.59L10.3 9.45l-7.72 7.72c-.78.78-.78 2.05 0 2.83L4 21.41c.39.39.9.59 1.41.59.51 0 1.02-.2 1.41-.59l7.78-7.78 2.81-2.81c.8-.78.8-2.07 0-2.86zM5.41 20L4 18.59l7.72-7.72 1.47 1.35L5.41 20z\"/>\n",
              "  </svg>\n",
              "      </button>\n",
              "      \n",
              "  <style>\n",
              "    .colab-df-container {\n",
              "      display:flex;\n",
              "      flex-wrap:wrap;\n",
              "      gap: 12px;\n",
              "    }\n",
              "\n",
              "    .colab-df-convert {\n",
              "      background-color: #E8F0FE;\n",
              "      border: none;\n",
              "      border-radius: 50%;\n",
              "      cursor: pointer;\n",
              "      display: none;\n",
              "      fill: #1967D2;\n",
              "      height: 32px;\n",
              "      padding: 0 0 0 0;\n",
              "      width: 32px;\n",
              "    }\n",
              "\n",
              "    .colab-df-convert:hover {\n",
              "      background-color: #E2EBFA;\n",
              "      box-shadow: 0px 1px 2px rgba(60, 64, 67, 0.3), 0px 1px 3px 1px rgba(60, 64, 67, 0.15);\n",
              "      fill: #174EA6;\n",
              "    }\n",
              "\n",
              "    [theme=dark] .colab-df-convert {\n",
              "      background-color: #3B4455;\n",
              "      fill: #D2E3FC;\n",
              "    }\n",
              "\n",
              "    [theme=dark] .colab-df-convert:hover {\n",
              "      background-color: #434B5C;\n",
              "      box-shadow: 0px 1px 3px 1px rgba(0, 0, 0, 0.15);\n",
              "      filter: drop-shadow(0px 1px 2px rgba(0, 0, 0, 0.3));\n",
              "      fill: #FFFFFF;\n",
              "    }\n",
              "  </style>\n",
              "\n",
              "      <script>\n",
              "        const buttonEl =\n",
              "          document.querySelector('#df-bd3e34ad-cbae-461c-92c1-7eb275de786f button.colab-df-convert');\n",
              "        buttonEl.style.display =\n",
              "          google.colab.kernel.accessAllowed ? 'block' : 'none';\n",
              "\n",
              "        async function convertToInteractive(key) {\n",
              "          const element = document.querySelector('#df-bd3e34ad-cbae-461c-92c1-7eb275de786f');\n",
              "          const dataTable =\n",
              "            await google.colab.kernel.invokeFunction('convertToInteractive',\n",
              "                                                     [key], {});\n",
              "          if (!dataTable) return;\n",
              "\n",
              "          const docLinkHtml = 'Like what you see? Visit the ' +\n",
              "            '<a target=\"_blank\" href=https://colab.research.google.com/notebooks/data_table.ipynb>data table notebook</a>'\n",
              "            + ' to learn more about interactive tables.';\n",
              "          element.innerHTML = '';\n",
              "          dataTable['output_type'] = 'display_data';\n",
              "          await google.colab.output.renderOutput(dataTable, element);\n",
              "          const docLink = document.createElement('div');\n",
              "          docLink.innerHTML = docLinkHtml;\n",
              "          element.appendChild(docLink);\n",
              "        }\n",
              "      </script>\n",
              "    </div>\n",
              "  </div>\n",
              "  "
            ]
          },
          "metadata": {},
          "execution_count": 101
        }
      ]
    },
    {
      "cell_type": "code",
      "source": [
        "df.info()"
      ],
      "metadata": {
        "colab": {
          "base_uri": "https://localhost:8080/"
        },
        "id": "Xaeqi1Wh8tUQ",
        "outputId": "1f91fdce-92b1-484c-9de7-aa79ad66aaea"
      },
      "execution_count": null,
      "outputs": [
        {
          "output_type": "stream",
          "name": "stdout",
          "text": [
            "<class 'pandas.core.frame.DataFrame'>\n",
            "RangeIndex: 8807 entries, 0 to 8806\n",
            "Data columns (total 12 columns):\n",
            " #   Column        Non-Null Count  Dtype \n",
            "---  ------        --------------  ----- \n",
            " 0   show_id       8807 non-null   object\n",
            " 1   type          8807 non-null   object\n",
            " 2   title         8807 non-null   object\n",
            " 3   director      6173 non-null   object\n",
            " 4   cast          7982 non-null   object\n",
            " 5   country       7976 non-null   object\n",
            " 6   date_added    8797 non-null   object\n",
            " 7   release_year  8807 non-null   int64 \n",
            " 8   rating        8803 non-null   object\n",
            " 9   duration      8804 non-null   object\n",
            " 10  listed_in     8807 non-null   object\n",
            " 11  description   8807 non-null   object\n",
            "dtypes: int64(1), object(11)\n",
            "memory usage: 825.8+ KB\n"
          ]
        }
      ]
    },
    {
      "cell_type": "code",
      "source": [
        "df.isnull().sum()"
      ],
      "metadata": {
        "colab": {
          "base_uri": "https://localhost:8080/"
        },
        "id": "mDz062RpJSU1",
        "outputId": "bcc28de4-d7c1-48ee-ed4e-a27ce3261738"
      },
      "execution_count": null,
      "outputs": [
        {
          "output_type": "execute_result",
          "data": {
            "text/plain": [
              "show_id            0\n",
              "type               0\n",
              "title              0\n",
              "director        2634\n",
              "cast             825\n",
              "country          831\n",
              "date_added        10\n",
              "release_year       0\n",
              "rating             4\n",
              "duration           3\n",
              "listed_in          0\n",
              "description        0\n",
              "dtype: int64"
            ]
          },
          "metadata": {},
          "execution_count": 103
        }
      ]
    },
    {
      "cell_type": "code",
      "source": [
        "shows=df[df['type']=='TV Show']\n",
        "shows.head()\n",
        "movies = df[df['type']=='Movie']\n",
        "movies.head()\n",
        "df.groupby(by='type').size()"
      ],
      "metadata": {
        "colab": {
          "base_uri": "https://localhost:8080/"
        },
        "id": "MeoJrj188tQT",
        "outputId": "e1c97711-b72c-40af-87a1-180033832922"
      },
      "execution_count": null,
      "outputs": [
        {
          "output_type": "execute_result",
          "data": {
            "text/plain": [
              "type\n",
              "Movie      6131\n",
              "TV Show    2676\n",
              "dtype: int64"
            ]
          },
          "metadata": {},
          "execution_count": 104
        }
      ]
    },
    {
      "cell_type": "code",
      "source": [
        "ax = sns.countplot(x=\"type\", data=df, palette=\"Set2\")\n",
        "ax"
      ],
      "metadata": {
        "colab": {
          "base_uri": "https://localhost:8080/",
          "height": 303
        },
        "id": "2oaglJsT-_Tw",
        "outputId": "e88d544c-5b82-496b-9f99-491c9f139079"
      },
      "execution_count": null,
      "outputs": [
        {
          "output_type": "execute_result",
          "data": {
            "text/plain": [
              "<matplotlib.axes._subplots.AxesSubplot at 0x7f3a386957c0>"
            ]
          },
          "metadata": {},
          "execution_count": 105
        },
        {
          "output_type": "display_data",
          "data": {
            "text/plain": [
              "<Figure size 432x288 with 1 Axes>"
            ],
            "image/png": "[encoded data removed]"
          },
          "metadata": {}
        }
      ]
    },
    {
      "cell_type": "code",
      "source": [
        "df.groupby(by='rating').size().sort_values(ascending=False)"
      ],
      "metadata": {
        "colab": {
          "base_uri": "https://localhost:8080/"
        },
        "id": "kQ5k14W-HQ95",
        "outputId": "c9101a50-5254-4130-af67-561e500f903c"
      },
      "execution_count": null,
      "outputs": [
        {
          "output_type": "execute_result",
          "data": {
            "text/plain": [
              "rating\n",
              "TV-MA       3207\n",
              "TV-14       2160\n",
              "TV-PG        863\n",
              "R            799\n",
              "PG-13        490\n",
              "TV-Y7        334\n",
              "TV-Y         307\n",
              "PG           287\n",
              "TV-G         220\n",
              "NR            80\n",
              "G             41\n",
              "TV-Y7-FV       6\n",
              "UR             3\n",
              "NC-17          3\n",
              "74 min         1\n",
              "84 min         1\n",
              "66 min         1\n",
              "dtype: int64"
            ]
          },
          "metadata": {},
          "execution_count": 106
        }
      ]
    },
    {
      "cell_type": "code",
      "source": [
        "plt.figure(figsize=(12,10))\n",
        "dx=sns.countplot(x=\"rating\", data=df, palette=\"Set2\",order=df['rating'].value_counts().index[0:15])\n",
        "dx"
      ],
      "metadata": {
        "colab": {
          "base_uri": "https://localhost:8080/",
          "height": 629
        },
        "id": "r8B5xwkq_8AW",
        "outputId": "6a01ce85-4366-451f-b507-8dd150af6d8b"
      },
      "execution_count": null,
      "outputs": [
        {
          "output_type": "execute_result",
          "data": {
            "text/plain": [
              "<matplotlib.axes._subplots.AxesSubplot at 0x7f3a386924c0>"
            ]
          },
          "metadata": {},
          "execution_count": 107
        },
        {
          "output_type": "display_data",
          "data": {
            "text/plain": [
              "<Figure size 864x720 with 1 Axes>"
            ],
            "image/png": "[encoded data removed]"
          },
          "metadata": {}
        }
      ]
    },
    {
      "cell_type": "code",
      "source": [
        "df.groupby(by='release_year').size().sort_values(ascending=False)[0:5]"
      ],
      "metadata": {
        "colab": {
          "base_uri": "https://localhost:8080/"
        },
        "id": "KrNLHsBfEiul",
        "outputId": "07ccc285-f82d-4a89-8a24-df9efd837097"
      },
      "execution_count": null,
      "outputs": [
        {
          "output_type": "execute_result",
          "data": {
            "text/plain": [
              "release_year\n",
              "2018    1147\n",
              "2017    1032\n",
              "2019    1030\n",
              "2020     953\n",
              "2016     902\n",
              "dtype: int64"
            ]
          },
          "metadata": {},
          "execution_count": 108
        }
      ]
    },
    {
      "cell_type": "code",
      "source": [
        "df.groupby(by='director').size().sort_values(ascending=False)[0:5]"
      ],
      "metadata": {
        "id": "x-TF2CdYMr4j",
        "outputId": "5b54e965-8d8a-473a-d139-96fababdba62",
        "colab": {
          "base_uri": "https://localhost:8080/"
        }
      },
      "execution_count": null,
      "outputs": [
        {
          "output_type": "execute_result",
          "data": {
            "text/plain": [
              "director\n",
              "Rajiv Chilaka             19\n",
              "Raúl Campos, Jan Suter    18\n",
              "Suhas Kadav               16\n",
              "Marcus Raboy              16\n",
              "Jay Karas                 14\n",
              "dtype: int64"
            ]
          },
          "metadata": {},
          "execution_count": 109
        }
      ]
    },
    {
      "cell_type": "code",
      "source": [
        "bar, ax = plt.subplots(figsize = (10,10))\n",
        "sns.barplot(x = df['release_year'].value_counts().index[:5], y = df['release_year'].value_counts()[:5])"
      ],
      "metadata": {
        "colab": {
          "base_uri": "https://localhost:8080/",
          "height": 614
        },
        "id": "7KxPdVpCLE_2",
        "outputId": "ca530d71-cd6d-4b20-b70c-349dd39d499c"
      },
      "execution_count": null,
      "outputs": [
        {
          "output_type": "execute_result",
          "data": {
            "text/plain": [
              "<matplotlib.axes._subplots.AxesSubplot at 0x7f3a397100a0>"
            ]
          },
          "metadata": {},
          "execution_count": 110
        },
        {
          "output_type": "display_data",
          "data": {
            "text/plain": [
              "<Figure size 720x720 with 1 Axes>"
            ],
            "image/png": "[encoded data removed]"
          },
          "metadata": {}
        }
      ]
    },
    {
      "cell_type": "code",
      "source": [
        "df.groupby(by='listed_in').size().sort_values(ascending=False)[0:5]"
      ],
      "metadata": {
        "colab": {
          "base_uri": "https://localhost:8080/"
        },
        "id": "NYAAWK61lT8F",
        "outputId": "238608bf-80fa-4141-d5ff-eac40ce4f59c"
      },
      "execution_count": null,
      "outputs": [
        {
          "output_type": "execute_result",
          "data": {
            "text/plain": [
              "listed_in\n",
              "Dramas, International Movies                        362\n",
              "Documentaries                                       359\n",
              "Stand-Up Comedy                                     334\n",
              "Comedies, Dramas, International Movies              274\n",
              "Dramas, Independent Movies, International Movies    252\n",
              "dtype: int64"
            ]
          },
          "metadata": {},
          "execution_count": 111
        }
      ]
    },
    {
      "cell_type": "code",
      "source": [
        "movies = df[df['type']=='Movie']\n",
        "print(movies.groupby(by='release_year').size().sort_values(ascending=False)[0:5])\n",
        "\n",
        "\n",
        "plt.figure(figsize=(12,10))\n",
        "sns.set(style=\"darkgrid\")\n",
        "ax = sns.countplot(y=\"release_year\", data=movies, palette=\"Set2\", order=movies['release_year'].value_counts().index[0:15])\n",
        "\n"
      ],
      "metadata": {
        "colab": {
          "base_uri": "https://localhost:8080/",
          "height": 736
        },
        "id": "bf63IQWK3inc",
        "outputId": "3b7da751-8e46-4a2f-d254-e4d2ce11edcf"
      },
      "execution_count": null,
      "outputs": [
        {
          "output_type": "stream",
          "name": "stdout",
          "text": [
            "release_year\n",
            "2018    767\n",
            "2017    767\n",
            "2016    658\n",
            "2019    633\n",
            "2020    517\n",
            "dtype: int64\n"
          ]
        },
        {
          "output_type": "display_data",
          "data": {
            "text/plain": [
              "<Figure size 864x720 with 1 Axes>"
            ],
            "image/png": "[encoded data removed]"
          },
          "metadata": {}
        }
      ]
    },
    {
      "cell_type": "code",
      "source": [
        "country=df.groupby(by='country').size().sort_values(ascending=False)\n",
        "country[0:10]"
      ],
      "metadata": {
        "colab": {
          "base_uri": "https://localhost:8080/"
        },
        "id": "mwxdvtWNGNk6",
        "outputId": "226351bf-d7a6-4046-d75a-9ccd2845b291"
      },
      "execution_count": null,
      "outputs": [
        {
          "output_type": "execute_result",
          "data": {
            "text/plain": [
              "country\n",
              "United States     2818\n",
              "India              972\n",
              "United Kingdom     419\n",
              "Japan              245\n",
              "South Korea        199\n",
              "Canada             181\n",
              "Spain              145\n",
              "France             124\n",
              "Mexico             110\n",
              "Egypt              106\n",
              "dtype: int64"
            ]
          },
          "metadata": {},
          "execution_count": 113
        }
      ]
    },
    {
      "cell_type": "code",
      "source": [
        "movies.groupby(by='country').size().sort_values(ascending=False)[0:5]"
      ],
      "metadata": {
        "colab": {
          "base_uri": "https://localhost:8080/"
        },
        "id": "Zf5bjmRUGNUc",
        "outputId": "030fd27f-2941-4812-a31e-3d57befb91ac"
      },
      "execution_count": null,
      "outputs": [
        {
          "output_type": "execute_result",
          "data": {
            "text/plain": [
              "country\n",
              "United States     2058\n",
              "India              893\n",
              "United Kingdom     206\n",
              "Canada             122\n",
              "Spain               97\n",
              "dtype: int64"
            ]
          },
          "metadata": {},
          "execution_count": 114
        }
      ]
    },
    {
      "cell_type": "code",
      "source": [
        "from sklearn.feature_extraction.text import TfidfVectorizer"
      ],
      "metadata": {
        "id": "27KgjGr2_76B"
      },
      "execution_count": null,
      "outputs": []
    },
    {
      "cell_type": "code",
      "source": [
        "#removing stopwords\n",
        "tfidf = TfidfVectorizer(stop_words='english')\n",
        "\n",
        "#Replace NaN with an empty string\n",
        "df['description'] = df['description'].fillna('')\n",
        "\n",
        "#Construct the required TF-IDF matrix by fitting and transforming the data\n",
        "tfidf_matrix = tfidf.fit_transform(df['description'])\n",
        "\n",
        "#Output the shape of tfidf_matrix\n",
        "tfidf_matrix.shape"
      ],
      "metadata": {
        "colab": {
          "base_uri": "https://localhost:8080/"
        },
        "id": "3ktRwS4rUupc",
        "outputId": "7a0e2feb-8bf8-44c9-ffcc-d787d1076aa9"
      },
      "execution_count": null,
      "outputs": [
        {
          "output_type": "execute_result",
          "data": {
            "text/plain": [
              "(8807, 18895)"
            ]
          },
          "metadata": {},
          "execution_count": 116
        }
      ]
    },
    {
      "cell_type": "code",
      "source": [
        "# Import linear_kernel\n",
        "from sklearn.metrics.pairwise import linear_kernel\n",
        "\n",
        "# Compute the cosine similarity matrix\n",
        "cosine_sim = linear_kernel(tfidf_matrix, tfidf_matrix)"
      ],
      "metadata": {
        "id": "LwdU1IlrAibA"
      },
      "execution_count": null,
      "outputs": []
    },
    {
      "cell_type": "code",
      "source": [
        "indices = pd.Series(df.index, index=df['title']).drop_duplicates()\n",
        "indices[1:5]"
      ],
      "metadata": {
        "colab": {
          "base_uri": "https://localhost:8080/"
        },
        "id": "Bkz9mvZ7AiM2",
        "outputId": "56b55568-9a43-445d-cb43-ab0db9c7d0a9"
      },
      "execution_count": null,
      "outputs": [
        {
          "output_type": "execute_result",
          "data": {
            "text/plain": [
              "title\n",
              "Blood & Water            1\n",
              "Ganglands                2\n",
              "Jailbirds New Orleans    3\n",
              "Kota Factory             4\n",
              "dtype: int64"
            ]
          },
          "metadata": {},
          "execution_count": 118
        }
      ]
    },
    {
      "cell_type": "code",
      "source": [
        "def get_recommendations(title, cosine_sim=cosine_sim):\n",
        "    idx = indices[title]\n",
        "\n",
        "    # Get the pairwsie similarity scores of all movies with that movie\n",
        "    sim_scores = list(enumerate(cosine_sim[idx]))\n",
        "\n",
        "    # Sort the movies based on the similarity scores\n",
        "    sim_scores = sorted(sim_scores, key=lambda x: x[1], reverse=True)\n",
        "\n",
        "    # Get the scores of the 10 most similar movies\n",
        "    sim_scores = sim_scores[1:11]\n",
        "    print(sim_scores)\n",
        "\n",
        "    # Get the movie indices\n",
        "    movie_indices = [i[0] for i in sim_scores]\n",
        "\n",
        "    # Return the top 10 most similar movies\n",
        "    return df['title'].iloc[movie_indices]"
      ],
      "metadata": {
        "id": "S1vUGeMZUuV0"
      },
      "execution_count": null,
      "outputs": []
    },
    {
      "cell_type": "code",
      "source": [
        "get_recommendations('Peaky Blinders')"
      ],
      "metadata": {
        "colab": {
          "base_uri": "https://localhost:8080/"
        },
        "id": "fTwGH25l_7xe",
        "outputId": "a1f3044f-34f7-48ce-ddf9-9a7140080986"
      },
      "execution_count": null,
      "outputs": [
        {
          "output_type": "stream",
          "name": "stdout",
          "text": [
            "[(7683, 0.13434339215316093), (2646, 0.11862150098155227), (3133, 0.11837692250723159), (8293, 0.11807628697545637), (7140, 0.11405485220406086), (7785, 0.1117649875971114), (8467, 0.10780775727496507), (8539, 0.10743235235667388), (1510, 0.10384777440908519), (8391, 0.10246794470139631)]\n"
          ]
        },
        {
          "output_type": "execute_result",
          "data": {
            "text/plain": [
              "7683                    Our Godfather\n",
              "2646                   My Stupid Boss\n",
              "3133                              Don\n",
              "8293                         The Fear\n",
              "7140    Jonathan Strange & Mr Norrell\n",
              "7785                Power Rangers Zeo\n",
              "8467                       The Prison\n",
              "8539                       The Tudors\n",
              "1510                    The Con Is On\n",
              "8391     The Legend of Michael Mishra\n",
              "Name: title, dtype: object"
            ]
          },
          "metadata": {},
          "execution_count": 120
        }
      ]
    },
    {
      "cell_type": "code",
      "source": [
        "get_recommendations('Mortel')"
      ],
      "metadata": {
        "colab": {
          "base_uri": "https://localhost:8080/"
        },
        "id": "nCqJH1nDBEC5",
        "outputId": "dcd4cc94-045e-47ff-e16a-5b10175dc441"
      },
      "execution_count": null,
      "outputs": [
        {
          "output_type": "stream",
          "name": "stdout",
          "text": [
            "[(256, 0.19168030159984872), (3674, 0.16567069133655177), (800, 0.16277022204974517), (4511, 0.15856983132822092), (6749, 0.15856170404223924), (7535, 0.15552206711558947), (6760, 0.15001182668623614), (4918, 0.1475222859731592), (5481, 0.14093063513142942), (2190, 0.13925750649057855)]\n"
          ]
        },
        {
          "output_type": "execute_result",
          "data": {
            "text/plain": [
              "256                       Nneka The Pretty Serpent\n",
              "3674                  PILI Fantasy: War of Dragons\n",
              "800                                Mosquita y Mari\n",
              "4511         Edgar Rice Burroughs' Tarzan and Jane\n",
              "6749                             Figures of Speech\n",
              "7535    My Entire High School Sinking Into the Sea\n",
              "6760                                     FirstBorn\n",
              "4918                                 Psychokinesis\n",
              "5481                                     Chamatkar\n",
              "2190                          The Umbrella Academy\n",
              "Name: title, dtype: object"
            ]
          },
          "metadata": {},
          "execution_count": 121
        }
      ]
    },
    {
      "cell_type": "code",
      "source": [
        "get_recommendations('Transformers: Robots in Disguise')"
      ],
      "metadata": {
        "colab": {
          "base_uri": "https://localhost:8080/"
        },
        "id": "LG199hiWmHxR",
        "outputId": "d0d37207-aa1f-49a8-84f5-d192edbd83aa"
      },
      "execution_count": null,
      "outputs": [
        {
          "output_type": "stream",
          "name": "stdout",
          "text": [
            "[(4651, 0.228297658064508), (882, 0.1437905349155127), (2382, 0.13871573783780577), (970, 0.13284822154346265), (2911, 0.12981823868444697), (3958, 0.12006732713947374), (719, 0.11431898206670646), (6445, 0.10924159624998483), (3667, 0.10832086249385123), (3674, 0.10766700137893226)]\n"
          ]
        },
        {
          "output_type": "execute_result",
          "data": {
            "text/plain": [
              "4651                      Transformers Prime\n",
              "882                   Jungle Beat: The Movie\n",
              "2382                            The Darkness\n",
              "970                      Battle: Los Angeles\n",
              "2911    A Shaun the Sheep Movie: Farmageddon\n",
              "3958                                Ultraman\n",
              "719                  Power Rangers Dino Fury\n",
              "6445                          Chappaquiddick\n",
              "3667                3Below: Tales of Arcadia\n",
              "3674            PILI Fantasy: War of Dragons\n",
              "Name: title, dtype: object"
            ]
          },
          "metadata": {},
          "execution_count": 122
        }
      ]
    },
    {
      "cell_type": "code",
      "source": [
        "filledna=df.fillna('')\n",
        "filledna.head(2)\n",
        "filledna.tail()"
      ],
      "metadata": {
        "colab": {
          "base_uri": "https://localhost:8080/",
          "height": 424
        },
        "id": "6L4MSTgoYMYB",
        "outputId": "53def717-f16b-472f-a055-ef7da3581d8d"
      },
      "execution_count": null,
      "outputs": [
        {
          "output_type": "execute_result",
          "data": {
            "text/plain": [
              "     show_id     type        title         director  \\\n",
              "8802   s8803    Movie       Zodiac    David Fincher   \n",
              "8803   s8804  TV Show  Zombie Dumb                    \n",
              "8804   s8805    Movie   Zombieland  Ruben Fleischer   \n",
              "8805   s8806    Movie         Zoom     Peter Hewitt   \n",
              "8806   s8807    Movie       Zubaan      Mozez Singh   \n",
              "\n",
              "                                                   cast        country  \\\n",
              "8802  Mark Ruffalo, Jake Gyllenhaal, Robert Downey J...  United States   \n",
              "8803                                                                     \n",
              "8804  Jesse Eisenberg, Woody Harrelson, Emma Stone, ...  United States   \n",
              "8805  Tim Allen, Courteney Cox, Chevy Chase, Kate Ma...  United States   \n",
              "8806  Vicky Kaushal, Sarah-Jane Dias, Raaghav Chanan...          India   \n",
              "\n",
              "             date_added  release_year rating   duration  \\\n",
              "8802  November 20, 2019          2007      R    158 min   \n",
              "8803       July 1, 2019          2018  TV-Y7  2 Seasons   \n",
              "8804   November 1, 2019          2009      R     88 min   \n",
              "8805   January 11, 2020          2006     PG     88 min   \n",
              "8806      March 2, 2019          2015  TV-14    111 min   \n",
              "\n",
              "                                           listed_in  \\\n",
              "8802                  Cult Movies, Dramas, Thrillers   \n",
              "8803          Kids' TV, Korean TV Shows, TV Comedies   \n",
              "8804                         Comedies, Horror Movies   \n",
              "8805              Children & Family Movies, Comedies   \n",
              "8806  Dramas, International Movies, Music & Musicals   \n",
              "\n",
              "                                            description  \n",
              "8802  A political cartoonist, a crime reporter and a...  \n",
              "8803  While living alone in a spooky town, a young g...  \n",
              "8804  Looking to survive in a world taken over by zo...  \n",
              "8805  Dragged from civilian life, a former superhero...  \n",
              "8806  A scrappy but poor boy worms his way into a ty...  "
            ],
            "text/html": [
              "\n",
              "  <div id=\"df-ab7cbe87-f443-409c-9f30-ef47bd10466c\">\n",
              "    <div class=\"colab-df-container\">\n",
              "      <div>\n",
              "<style scoped>\n",
              "    .dataframe tbody tr th:only-of-type {\n",
              "        vertical-align: middle;\n",
              "    }\n",
              "\n",
              "    .dataframe tbody tr th {\n",
              "        vertical-align: top;\n",
              "    }\n",
              "\n",
              "    .dataframe thead th {\n",
              "        text-align: right;\n",
              "    }\n",
              "</style>\n",
              "<table border=\"1\" class=\"dataframe\">\n",
              "  <thead>\n",
              "    <tr style=\"text-align: right;\">\n",
              "      <th></th>\n",
              "      <th>show_id</th>\n",
              "      <th>type</th>\n",
              "      <th>title</th>\n",
              "      <th>director</th>\n",
              "      <th>cast</th>\n",
              "      <th>country</th>\n",
              "      <th>date_added</th>\n",
              "      <th>release_year</th>\n",
              "      <th>rating</th>\n",
              "      <th>duration</th>\n",
              "      <th>listed_in</th>\n",
              "      <th>description</th>\n",
              "    </tr>\n",
              "  </thead>\n",
              "  <tbody>\n",
              "    <tr>\n",
              "      <th>8802</th>\n",
              "      <td>s8803</td>\n",
              "      <td>Movie</td>\n",
              "      <td>Zodiac</td>\n",
              "      <td>David Fincher</td>\n",
              "      <td>Mark Ruffalo, Jake Gyllenhaal, Robert Downey J...</td>\n",
              "      <td>United States</td>\n",
              "      <td>November 20, 2019</td>\n",
              "      <td>2007</td>\n",
              "      <td>R</td>\n",
              "      <td>158 min</td>\n",
              "      <td>Cult Movies, Dramas, Thrillers</td>\n",
              "      <td>A political cartoonist, a crime reporter and a...</td>\n",
              "    </tr>\n",
              "    <tr>\n",
              "      <th>8803</th>\n",
              "      <td>s8804</td>\n",
              "      <td>TV Show</td>\n",
              "      <td>Zombie Dumb</td>\n",
              "      <td></td>\n",
              "      <td></td>\n",
              "      <td></td>\n",
              "      <td>July 1, 2019</td>\n",
              "      <td>2018</td>\n",
              "      <td>TV-Y7</td>\n",
              "      <td>2 Seasons</td>\n",
              "      <td>Kids' TV, Korean TV Shows, TV Comedies</td>\n",
              "      <td>While living alone in a spooky town, a young g...</td>\n",
              "    </tr>\n",
              "    <tr>\n",
              "      <th>8804</th>\n",
              "      <td>s8805</td>\n",
              "      <td>Movie</td>\n",
              "      <td>Zombieland</td>\n",
              "      <td>Ruben Fleischer</td>\n",
              "      <td>Jesse Eisenberg, Woody Harrelson, Emma Stone, ...</td>\n",
              "      <td>United States</td>\n",
              "      <td>November 1, 2019</td>\n",
              "      <td>2009</td>\n",
              "      <td>R</td>\n",
              "      <td>88 min</td>\n",
              "      <td>Comedies, Horror Movies</td>\n",
              "      <td>Looking to survive in a world taken over by zo...</td>\n",
              "    </tr>\n",
              "    <tr>\n",
              "      <th>8805</th>\n",
              "      <td>s8806</td>\n",
              "      <td>Movie</td>\n",
              "      <td>Zoom</td>\n",
              "      <td>Peter Hewitt</td>\n",
              "      <td>Tim Allen, Courteney Cox, Chevy Chase, Kate Ma...</td>\n",
              "      <td>United States</td>\n",
              "      <td>January 11, 2020</td>\n",
              "      <td>2006</td>\n",
              "      <td>PG</td>\n",
              "      <td>88 min</td>\n",
              "      <td>Children &amp; Family Movies, Comedies</td>\n",
              "      <td>Dragged from civilian life, a former superhero...</td>\n",
              "    </tr>\n",
              "    <tr>\n",
              "      <th>8806</th>\n",
              "      <td>s8807</td>\n",
              "      <td>Movie</td>\n",
              "      <td>Zubaan</td>\n",
              "      <td>Mozez Singh</td>\n",
              "      <td>Vicky Kaushal, Sarah-Jane Dias, Raaghav Chanan...</td>\n",
              "      <td>India</td>\n",
              "      <td>March 2, 2019</td>\n",
              "      <td>2015</td>\n",
              "      <td>TV-14</td>\n",
              "      <td>111 min</td>\n",
              "      <td>Dramas, International Movies, Music &amp; Musicals</td>\n",
              "      <td>A scrappy but poor boy worms his way into a ty...</td>\n",
              "    </tr>\n",
              "  </tbody>\n",
              "</table>\n",
              "</div>\n",
              "      <button class=\"colab-df-convert\" onclick=\"convertToInteractive('df-ab7cbe87-f443-409c-9f30-ef47bd10466c')\"\n",
              "              title=\"Convert this dataframe to an interactive table.\"\n",
              "              style=\"display:none;\">\n",
              "        \n",
              "  <svg xmlns=\"http://www.w3.org/2000/svg\" height=\"24px\"viewBox=\"0 0 24 24\"\n",
              "       width=\"24px\">\n",
              "    <path d=\"M0 0h24v24H0V0z\" fill=\"none\"/>\n",
              "    <path d=\"M18.56 5.44l.94 2.06.94-2.06 2.06-.94-2.06-.94-.94-2.06-.94 2.06-2.06.94zm-11 1L8.5 8.5l.94-2.06 2.06-.94-2.06-.94L8.5 2.5l-.94 2.06-2.06.94zm10 10l.94 2.06.94-2.06 2.06-.94-2.06-.94-.94-2.06-.94 2.06-2.06.94z\"/><path d=\"M17.41 7.96l-1.37-1.37c-.4-.4-.92-.59-1.43-.59-.52 0-1.04.2-1.43.59L10.3 9.45l-7.72 7.72c-.78.78-.78 2.05 0 2.83L4 21.41c.39.39.9.59 1.41.59.51 0 1.02-.2 1.41-.59l7.78-7.78 2.81-2.81c.8-.78.8-2.07 0-2.86zM5.41 20L4 18.59l7.72-7.72 1.47 1.35L5.41 20z\"/>\n",
              "  </svg>\n",
              "      </button>\n",
              "      \n",
              "  <style>\n",
              "    .colab-df-container {\n",
              "      display:flex;\n",
              "      flex-wrap:wrap;\n",
              "      gap: 12px;\n",
              "    }\n",
              "\n",
              "    .colab-df-convert {\n",
              "      background-color: #E8F0FE;\n",
              "      border: none;\n",
              "      border-radius: 50%;\n",
              "      cursor: pointer;\n",
              "      display: none;\n",
              "      fill: #1967D2;\n",
              "      height: 32px;\n",
              "      padding: 0 0 0 0;\n",
              "      width: 32px;\n",
              "    }\n",
              "\n",
              "    .colab-df-convert:hover {\n",
              "      background-color: #E2EBFA;\n",
              "      box-shadow: 0px 1px 2px rgba(60, 64, 67, 0.3), 0px 1px 3px 1px rgba(60, 64, 67, 0.15);\n",
              "      fill: #174EA6;\n",
              "    }\n",
              "\n",
              "    [theme=dark] .colab-df-convert {\n",
              "      background-color: #3B4455;\n",
              "      fill: #D2E3FC;\n",
              "    }\n",
              "\n",
              "    [theme=dark] .colab-df-convert:hover {\n",
              "      background-color: #434B5C;\n",
              "      box-shadow: 0px 1px 3px 1px rgba(0, 0, 0, 0.15);\n",
              "      filter: drop-shadow(0px 1px 2px rgba(0, 0, 0, 0.3));\n",
              "      fill: #FFFFFF;\n",
              "    }\n",
              "  </style>\n",
              "\n",
              "      <script>\n",
              "        const buttonEl =\n",
              "          document.querySelector('#df-ab7cbe87-f443-409c-9f30-ef47bd10466c button.colab-df-convert');\n",
              "        buttonEl.style.display =\n",
              "          google.colab.kernel.accessAllowed ? 'block' : 'none';\n",
              "\n",
              "        async function convertToInteractive(key) {\n",
              "          const element = document.querySelector('#df-ab7cbe87-f443-409c-9f30-ef47bd10466c');\n",
              "          const dataTable =\n",
              "            await google.colab.kernel.invokeFunction('convertToInteractive',\n",
              "                                                     [key], {});\n",
              "          if (!dataTable) return;\n",
              "\n",
              "          const docLinkHtml = 'Like what you see? Visit the ' +\n",
              "            '<a target=\"_blank\" href=https://colab.research.google.com/notebooks/data_table.ipynb>data table notebook</a>'\n",
              "            + ' to learn more about interactive tables.';\n",
              "          element.innerHTML = '';\n",
              "          dataTable['output_type'] = 'display_data';\n",
              "          await google.colab.output.renderOutput(dataTable, element);\n",
              "          const docLink = document.createElement('div');\n",
              "          docLink.innerHTML = docLinkHtml;\n",
              "          element.appendChild(docLink);\n",
              "        }\n",
              "      </script>\n",
              "    </div>\n",
              "  </div>\n",
              "  "
            ]
          },
          "metadata": {},
          "execution_count": 123
        }
      ]
    },
    {
      "cell_type": "code",
      "source": [
        "def clean_data(x):\n",
        "        return str.lower(x.replace(\" \", \"\"))"
      ],
      "metadata": {
        "id": "NLHuZBeMYMMB"
      },
      "execution_count": null,
      "outputs": []
    },
    {
      "cell_type": "code",
      "source": [
        "features=['title','director','cast','listed_in','description']\n",
        "filledna=filledna[features]\n",
        "filledna.head(2)\n",
        "filledna.tail()"
      ],
      "metadata": {
        "colab": {
          "base_uri": "https://localhost:8080/",
          "height": 302
        },
        "id": "S1LaJERzYL_t",
        "outputId": "665b7968-3410-4126-c186-fc107e71b826"
      },
      "execution_count": null,
      "outputs": [
        {
          "output_type": "execute_result",
          "data": {
            "text/plain": [
              "            title         director  \\\n",
              "8802       Zodiac    David Fincher   \n",
              "8803  Zombie Dumb                    \n",
              "8804   Zombieland  Ruben Fleischer   \n",
              "8805         Zoom     Peter Hewitt   \n",
              "8806       Zubaan      Mozez Singh   \n",
              "\n",
              "                                                   cast  \\\n",
              "8802  Mark Ruffalo, Jake Gyllenhaal, Robert Downey J...   \n",
              "8803                                                      \n",
              "8804  Jesse Eisenberg, Woody Harrelson, Emma Stone, ...   \n",
              "8805  Tim Allen, Courteney Cox, Chevy Chase, Kate Ma...   \n",
              "8806  Vicky Kaushal, Sarah-Jane Dias, Raaghav Chanan...   \n",
              "\n",
              "                                           listed_in  \\\n",
              "8802                  Cult Movies, Dramas, Thrillers   \n",
              "8803          Kids' TV, Korean TV Shows, TV Comedies   \n",
              "8804                         Comedies, Horror Movies   \n",
              "8805              Children & Family Movies, Comedies   \n",
              "8806  Dramas, International Movies, Music & Musicals   \n",
              "\n",
              "                                            description  \n",
              "8802  A political cartoonist, a crime reporter and a...  \n",
              "8803  While living alone in a spooky town, a young g...  \n",
              "8804  Looking to survive in a world taken over by zo...  \n",
              "8805  Dragged from civilian life, a former superhero...  \n",
              "8806  A scrappy but poor boy worms his way into a ty...  "
            ],
            "text/html": [
              "\n",
              "  <div id=\"df-1123fc59-1019-4768-a05c-5ba90a89d6c4\">\n",
              "    <div class=\"colab-df-container\">\n",
              "      <div>\n",
              "<style scoped>\n",
              "    .dataframe tbody tr th:only-of-type {\n",
              "        vertical-align: middle;\n",
              "    }\n",
              "\n",
              "    .dataframe tbody tr th {\n",
              "        vertical-align: top;\n",
              "    }\n",
              "\n",
              "    .dataframe thead th {\n",
              "        text-align: right;\n",
              "    }\n",
              "</style>\n",
              "<table border=\"1\" class=\"dataframe\">\n",
              "  <thead>\n",
              "    <tr style=\"text-align: right;\">\n",
              "      <th></th>\n",
              "      <th>title</th>\n",
              "      <th>director</th>\n",
              "      <th>cast</th>\n",
              "      <th>listed_in</th>\n",
              "      <th>description</th>\n",
              "    </tr>\n",
              "  </thead>\n",
              "  <tbody>\n",
              "    <tr>\n",
              "      <th>8802</th>\n",
              "      <td>Zodiac</td>\n",
              "      <td>David Fincher</td>\n",
              "      <td>Mark Ruffalo, Jake Gyllenhaal, Robert Downey J...</td>\n",
              "      <td>Cult Movies, Dramas, Thrillers</td>\n",
              "      <td>A political cartoonist, a crime reporter and a...</td>\n",
              "    </tr>\n",
              "    <tr>\n",
              "      <th>8803</th>\n",
              "      <td>Zombie Dumb</td>\n",
              "      <td></td>\n",
              "      <td></td>\n",
              "      <td>Kids' TV, Korean TV Shows, TV Comedies</td>\n",
              "      <td>While living alone in a spooky town, a young g...</td>\n",
              "    </tr>\n",
              "    <tr>\n",
              "      <th>8804</th>\n",
              "      <td>Zombieland</td>\n",
              "      <td>Ruben Fleischer</td>\n",
              "      <td>Jesse Eisenberg, Woody Harrelson, Emma Stone, ...</td>\n",
              "      <td>Comedies, Horror Movies</td>\n",
              "      <td>Looking to survive in a world taken over by zo...</td>\n",
              "    </tr>\n",
              "    <tr>\n",
              "      <th>8805</th>\n",
              "      <td>Zoom</td>\n",
              "      <td>Peter Hewitt</td>\n",
              "      <td>Tim Allen, Courteney Cox, Chevy Chase, Kate Ma...</td>\n",
              "      <td>Children &amp; Family Movies, Comedies</td>\n",
              "      <td>Dragged from civilian life, a former superhero...</td>\n",
              "    </tr>\n",
              "    <tr>\n",
              "      <th>8806</th>\n",
              "      <td>Zubaan</td>\n",
              "      <td>Mozez Singh</td>\n",
              "      <td>Vicky Kaushal, Sarah-Jane Dias, Raaghav Chanan...</td>\n",
              "      <td>Dramas, International Movies, Music &amp; Musicals</td>\n",
              "      <td>A scrappy but poor boy worms his way into a ty...</td>\n",
              "    </tr>\n",
              "  </tbody>\n",
              "</table>\n",
              "</div>\n",
              "      <button class=\"colab-df-convert\" onclick=\"convertToInteractive('df-1123fc59-1019-4768-a05c-5ba90a89d6c4')\"\n",
              "              title=\"Convert this dataframe to an interactive table.\"\n",
              "              style=\"display:none;\">\n",
              "        \n",
              "  <svg xmlns=\"http://www.w3.org/2000/svg\" height=\"24px\"viewBox=\"0 0 24 24\"\n",
              "       width=\"24px\">\n",
              "    <path d=\"M0 0h24v24H0V0z\" fill=\"none\"/>\n",
              "    <path d=\"M18.56 5.44l.94 2.06.94-2.06 2.06-.94-2.06-.94-.94-2.06-.94 2.06-2.06.94zm-11 1L8.5 8.5l.94-2.06 2.06-.94-2.06-.94L8.5 2.5l-.94 2.06-2.06.94zm10 10l.94 2.06.94-2.06 2.06-.94-2.06-.94-.94-2.06-.94 2.06-2.06.94z\"/><path d=\"M17.41 7.96l-1.37-1.37c-.4-.4-.92-.59-1.43-.59-.52 0-1.04.2-1.43.59L10.3 9.45l-7.72 7.72c-.78.78-.78 2.05 0 2.83L4 21.41c.39.39.9.59 1.41.59.51 0 1.02-.2 1.41-.59l7.78-7.78 2.81-2.81c.8-.78.8-2.07 0-2.86zM5.41 20L4 18.59l7.72-7.72 1.47 1.35L5.41 20z\"/>\n",
              "  </svg>\n",
              "      </button>\n",
              "      \n",
              "  <style>\n",
              "    .colab-df-container {\n",
              "      display:flex;\n",
              "      flex-wrap:wrap;\n",
              "      gap: 12px;\n",
              "    }\n",
              "\n",
              "    .colab-df-convert {\n",
              "      background-color: #E8F0FE;\n",
              "      border: none;\n",
              "      border-radius: 50%;\n",
              "      cursor: pointer;\n",
              "      display: none;\n",
              "      fill: #1967D2;\n",
              "      height: 32px;\n",
              "      padding: 0 0 0 0;\n",
              "      width: 32px;\n",
              "    }\n",
              "\n",
              "    .colab-df-convert:hover {\n",
              "      background-color: #E2EBFA;\n",
              "      box-shadow: 0px 1px 2px rgba(60, 64, 67, 0.3), 0px 1px 3px 1px rgba(60, 64, 67, 0.15);\n",
              "      fill: #174EA6;\n",
              "    }\n",
              "\n",
              "    [theme=dark] .colab-df-convert {\n",
              "      background-color: #3B4455;\n",
              "      fill: #D2E3FC;\n",
              "    }\n",
              "\n",
              "    [theme=dark] .colab-df-convert:hover {\n",
              "      background-color: #434B5C;\n",
              "      box-shadow: 0px 1px 3px 1px rgba(0, 0, 0, 0.15);\n",
              "      filter: drop-shadow(0px 1px 2px rgba(0, 0, 0, 0.3));\n",
              "      fill: #FFFFFF;\n",
              "    }\n",
              "  </style>\n",
              "\n",
              "      <script>\n",
              "        const buttonEl =\n",
              "          document.querySelector('#df-1123fc59-1019-4768-a05c-5ba90a89d6c4 button.colab-df-convert');\n",
              "        buttonEl.style.display =\n",
              "          google.colab.kernel.accessAllowed ? 'block' : 'none';\n",
              "\n",
              "        async function convertToInteractive(key) {\n",
              "          const element = document.querySelector('#df-1123fc59-1019-4768-a05c-5ba90a89d6c4');\n",
              "          const dataTable =\n",
              "            await google.colab.kernel.invokeFunction('convertToInteractive',\n",
              "                                                     [key], {});\n",
              "          if (!dataTable) return;\n",
              "\n",
              "          const docLinkHtml = 'Like what you see? Visit the ' +\n",
              "            '<a target=\"_blank\" href=https://colab.research.google.com/notebooks/data_table.ipynb>data table notebook</a>'\n",
              "            + ' to learn more about interactive tables.';\n",
              "          element.innerHTML = '';\n",
              "          dataTable['output_type'] = 'display_data';\n",
              "          await google.colab.output.renderOutput(dataTable, element);\n",
              "          const docLink = document.createElement('div');\n",
              "          docLink.innerHTML = docLinkHtml;\n",
              "          element.appendChild(docLink);\n",
              "        }\n",
              "      </script>\n",
              "    </div>\n",
              "  </div>\n",
              "  "
            ]
          },
          "metadata": {},
          "execution_count": 125
        }
      ]
    },
    {
      "cell_type": "code",
      "source": [
        "dnew= {'title':'taare zameen par',\n",
        "       'director' :'aamir khan, amole gupte',\n",
        "       'cast' :'Aamir Khan, darsheel safary',\n",
        "       'listed_in':'childrens film, drama',\n",
        "       'description':' The film explores the life and imagination of Ishaan, an 8-year-old dyslexic child. Although he excels in art, his poor academic performance leads his parents to send him to a boarding school. Ishaans new art teacher suspects that he is dyslexic and helps him to overcome his disability. Darsheel Safary stars as 8-year-old Ishaan, and Aamir Khan plays his art teacher.'}\n",
        "filledna= filledna.append(dnew, ignore_index = True)\n",
        "filledna.tail()\n",
        "\n",
        "#filledna.loc[len(filledna.index)] = ['taare zameen par, 'aamir khan, amole gupte', 'Aamir Khan, darsheel safary','ip',' The film explores the life and imagination of Ishaan, an 8-year-old dyslexic child. Although he excels in art, his poor academic performance leads his parents to send him to a boarding school. Ishaans new art teacher suspects that he is dyslexic and helps him to overcome his disability. Darsheel Safary stars as 8-year-old Ishaan, and Aamir Khan plays his art teacher.']"
      ],
      "metadata": {
        "colab": {
          "base_uri": "https://localhost:8080/",
          "height": 337
        },
        "id": "v1X9cM5QeMJ7",
        "outputId": "e5b46f65-36b6-44ef-a1dd-2be6fc9a998a"
      },
      "execution_count": null,
      "outputs": [
        {
          "output_type": "execute_result",
          "data": {
            "text/plain": [
              "                 title                 director  \\\n",
              "8803       Zombie Dumb                            \n",
              "8804        Zombieland          Ruben Fleischer   \n",
              "8805              Zoom             Peter Hewitt   \n",
              "8806            Zubaan              Mozez Singh   \n",
              "8807  taare zameen par  aamir khan, amole gupte   \n",
              "\n",
              "                                                   cast  \\\n",
              "8803                                                      \n",
              "8804  Jesse Eisenberg, Woody Harrelson, Emma Stone, ...   \n",
              "8805  Tim Allen, Courteney Cox, Chevy Chase, Kate Ma...   \n",
              "8806  Vicky Kaushal, Sarah-Jane Dias, Raaghav Chanan...   \n",
              "8807                        Aamir Khan, darsheel safary   \n",
              "\n",
              "                                           listed_in  \\\n",
              "8803          Kids' TV, Korean TV Shows, TV Comedies   \n",
              "8804                         Comedies, Horror Movies   \n",
              "8805              Children & Family Movies, Comedies   \n",
              "8806  Dramas, International Movies, Music & Musicals   \n",
              "8807                           childrens film, drama   \n",
              "\n",
              "                                            description  \n",
              "8803  While living alone in a spooky town, a young g...  \n",
              "8804  Looking to survive in a world taken over by zo...  \n",
              "8805  Dragged from civilian life, a former superhero...  \n",
              "8806  A scrappy but poor boy worms his way into a ty...  \n",
              "8807   The film explores the life and imagination of...  "
            ],
            "text/html": [
              "\n",
              "  <div id=\"df-808223c4-65cc-48ac-b67b-52b9341d9655\">\n",
              "    <div class=\"colab-df-container\">\n",
              "      <div>\n",
              "<style scoped>\n",
              "    .dataframe tbody tr th:only-of-type {\n",
              "        vertical-align: middle;\n",
              "    }\n",
              "\n",
              "    .dataframe tbody tr th {\n",
              "        vertical-align: top;\n",
              "    }\n",
              "\n",
              "    .dataframe thead th {\n",
              "        text-align: right;\n",
              "    }\n",
              "</style>\n",
              "<table border=\"1\" class=\"dataframe\">\n",
              "  <thead>\n",
              "    <tr style=\"text-align: right;\">\n",
              "      <th></th>\n",
              "      <th>title</th>\n",
              "      <th>director</th>\n",
              "      <th>cast</th>\n",
              "      <th>listed_in</th>\n",
              "      <th>description</th>\n",
              "    </tr>\n",
              "  </thead>\n",
              "  <tbody>\n",
              "    <tr>\n",
              "      <th>8803</th>\n",
              "      <td>Zombie Dumb</td>\n",
              "      <td></td>\n",
              "      <td></td>\n",
              "      <td>Kids' TV, Korean TV Shows, TV Comedies</td>\n",
              "      <td>While living alone in a spooky town, a young g...</td>\n",
              "    </tr>\n",
              "    <tr>\n",
              "      <th>8804</th>\n",
              "      <td>Zombieland</td>\n",
              "      <td>Ruben Fleischer</td>\n",
              "      <td>Jesse Eisenberg, Woody Harrelson, Emma Stone, ...</td>\n",
              "      <td>Comedies, Horror Movies</td>\n",
              "      <td>Looking to survive in a world taken over by zo...</td>\n",
              "    </tr>\n",
              "    <tr>\n",
              "      <th>8805</th>\n",
              "      <td>Zoom</td>\n",
              "      <td>Peter Hewitt</td>\n",
              "      <td>Tim Allen, Courteney Cox, Chevy Chase, Kate Ma...</td>\n",
              "      <td>Children &amp; Family Movies, Comedies</td>\n",
              "      <td>Dragged from civilian life, a former superhero...</td>\n",
              "    </tr>\n",
              "    <tr>\n",
              "      <th>8806</th>\n",
              "      <td>Zubaan</td>\n",
              "      <td>Mozez Singh</td>\n",
              "      <td>Vicky Kaushal, Sarah-Jane Dias, Raaghav Chanan...</td>\n",
              "      <td>Dramas, International Movies, Music &amp; Musicals</td>\n",
              "      <td>A scrappy but poor boy worms his way into a ty...</td>\n",
              "    </tr>\n",
              "    <tr>\n",
              "      <th>8807</th>\n",
              "      <td>taare zameen par</td>\n",
              "      <td>aamir khan, amole gupte</td>\n",
              "      <td>Aamir Khan, darsheel safary</td>\n",
              "      <td>childrens film, drama</td>\n",
              "      <td>The film explores the life and imagination of...</td>\n",
              "    </tr>\n",
              "  </tbody>\n",
              "</table>\n",
              "</div>\n",
              "      <button class=\"colab-df-convert\" onclick=\"convertToInteractive('df-808223c4-65cc-48ac-b67b-52b9341d9655')\"\n",
              "              title=\"Convert this dataframe to an interactive table.\"\n",
              "              style=\"display:none;\">\n",
              "        \n",
              "  <svg xmlns=\"http://www.w3.org/2000/svg\" height=\"24px\"viewBox=\"0 0 24 24\"\n",
              "       width=\"24px\">\n",
              "    <path d=\"M0 0h24v24H0V0z\" fill=\"none\"/>\n",
              "    <path d=\"M18.56 5.44l.94 2.06.94-2.06 2.06-.94-2.06-.94-.94-2.06-.94 2.06-2.06.94zm-11 1L8.5 8.5l.94-2.06 2.06-.94-2.06-.94L8.5 2.5l-.94 2.06-2.06.94zm10 10l.94 2.06.94-2.06 2.06-.94-2.06-.94-.94-2.06-.94 2.06-2.06.94z\"/><path d=\"M17.41 7.96l-1.37-1.37c-.4-.4-.92-.59-1.43-.59-.52 0-1.04.2-1.43.59L10.3 9.45l-7.72 7.72c-.78.78-.78 2.05 0 2.83L4 21.41c.39.39.9.59 1.41.59.51 0 1.02-.2 1.41-.59l7.78-7.78 2.81-2.81c.8-.78.8-2.07 0-2.86zM5.41 20L4 18.59l7.72-7.72 1.47 1.35L5.41 20z\"/>\n",
              "  </svg>\n",
              "      </button>\n",
              "      \n",
              "  <style>\n",
              "    .colab-df-container {\n",
              "      display:flex;\n",
              "      flex-wrap:wrap;\n",
              "      gap: 12px;\n",
              "    }\n",
              "\n",
              "    .colab-df-convert {\n",
              "      background-color: #E8F0FE;\n",
              "      border: none;\n",
              "      border-radius: 50%;\n",
              "      cursor: pointer;\n",
              "      display: none;\n",
              "      fill: #1967D2;\n",
              "      height: 32px;\n",
              "      padding: 0 0 0 0;\n",
              "      width: 32px;\n",
              "    }\n",
              "\n",
              "    .colab-df-convert:hover {\n",
              "      background-color: #E2EBFA;\n",
              "      box-shadow: 0px 1px 2px rgba(60, 64, 67, 0.3), 0px 1px 3px 1px rgba(60, 64, 67, 0.15);\n",
              "      fill: #174EA6;\n",
              "    }\n",
              "\n",
              "    [theme=dark] .colab-df-convert {\n",
              "      background-color: #3B4455;\n",
              "      fill: #D2E3FC;\n",
              "    }\n",
              "\n",
              "    [theme=dark] .colab-df-convert:hover {\n",
              "      background-color: #434B5C;\n",
              "      box-shadow: 0px 1px 3px 1px rgba(0, 0, 0, 0.15);\n",
              "      filter: drop-shadow(0px 1px 2px rgba(0, 0, 0, 0.3));\n",
              "      fill: #FFFFFF;\n",
              "    }\n",
              "  </style>\n",
              "\n",
              "      <script>\n",
              "        const buttonEl =\n",
              "          document.querySelector('#df-808223c4-65cc-48ac-b67b-52b9341d9655 button.colab-df-convert');\n",
              "        buttonEl.style.display =\n",
              "          google.colab.kernel.accessAllowed ? 'block' : 'none';\n",
              "\n",
              "        async function convertToInteractive(key) {\n",
              "          const element = document.querySelector('#df-808223c4-65cc-48ac-b67b-52b9341d9655');\n",
              "          const dataTable =\n",
              "            await google.colab.kernel.invokeFunction('convertToInteractive',\n",
              "                                                     [key], {});\n",
              "          if (!dataTable) return;\n",
              "\n",
              "          const docLinkHtml = 'Like what you see? Visit the ' +\n",
              "            '<a target=\"_blank\" href=https://colab.research.google.com/notebooks/data_table.ipynb>data table notebook</a>'\n",
              "            + ' to learn more about interactive tables.';\n",
              "          element.innerHTML = '';\n",
              "          dataTable['output_type'] = 'display_data';\n",
              "          await google.colab.output.renderOutput(dataTable, element);\n",
              "          const docLink = document.createElement('div');\n",
              "          docLink.innerHTML = docLinkHtml;\n",
              "          element.appendChild(docLink);\n",
              "        }\n",
              "      </script>\n",
              "    </div>\n",
              "  </div>\n",
              "  "
            ]
          },
          "metadata": {},
          "execution_count": 126
        }
      ]
    },
    {
      "cell_type": "code",
      "source": [
        "for feature in features:\n",
        "    filledna[feature] = filledna[feature].apply(clean_data)\n",
        "    \n",
        "filledna.head(2)"
      ],
      "metadata": {
        "colab": {
          "base_uri": "https://localhost:8080/",
          "height": 156
        },
        "id": "0GtmCqNGZkeQ",
        "outputId": "22e17112-ce56-45a8-a7c9-b1ae06edcac1"
      },
      "execution_count": null,
      "outputs": [
        {
          "output_type": "execute_result",
          "data": {
            "text/plain": [
              "               title        director  \\\n",
              "0  dickjohnsonisdead  kirstenjohnson   \n",
              "1        blood&water                   \n",
              "\n",
              "                                                cast  \\\n",
              "0                                                      \n",
              "1  amaqamata,khosingema,gailmabalane,thabangmolab...   \n",
              "\n",
              "                                   listed_in  \\\n",
              "0                              documentaries   \n",
              "1  internationaltvshows,tvdramas,tvmysteries   \n",
              "\n",
              "                                         description  \n",
              "0  asherfathernearstheendofhislife,filmmakerkirst...  \n",
              "1  aftercrossingpathsataparty,acapetownteensetsou...  "
            ],
            "text/html": [
              "\n",
              "  <div id=\"df-fadb2723-f915-4d93-ad7a-328af57df98e\">\n",
              "    <div class=\"colab-df-container\">\n",
              "      <div>\n",
              "<style scoped>\n",
              "    .dataframe tbody tr th:only-of-type {\n",
              "        vertical-align: middle;\n",
              "    }\n",
              "\n",
              "    .dataframe tbody tr th {\n",
              "        vertical-align: top;\n",
              "    }\n",
              "\n",
              "    .dataframe thead th {\n",
              "        text-align: right;\n",
              "    }\n",
              "</style>\n",
              "<table border=\"1\" class=\"dataframe\">\n",
              "  <thead>\n",
              "    <tr style=\"text-align: right;\">\n",
              "      <th></th>\n",
              "      <th>title</th>\n",
              "      <th>director</th>\n",
              "      <th>cast</th>\n",
              "      <th>listed_in</th>\n",
              "      <th>description</th>\n",
              "    </tr>\n",
              "  </thead>\n",
              "  <tbody>\n",
              "    <tr>\n",
              "      <th>0</th>\n",
              "      <td>dickjohnsonisdead</td>\n",
              "      <td>kirstenjohnson</td>\n",
              "      <td></td>\n",
              "      <td>documentaries</td>\n",
              "      <td>asherfathernearstheendofhislife,filmmakerkirst...</td>\n",
              "    </tr>\n",
              "    <tr>\n",
              "      <th>1</th>\n",
              "      <td>blood&amp;water</td>\n",
              "      <td></td>\n",
              "      <td>amaqamata,khosingema,gailmabalane,thabangmolab...</td>\n",
              "      <td>internationaltvshows,tvdramas,tvmysteries</td>\n",
              "      <td>aftercrossingpathsataparty,acapetownteensetsou...</td>\n",
              "    </tr>\n",
              "  </tbody>\n",
              "</table>\n",
              "</div>\n",
              "      <button class=\"colab-df-convert\" onclick=\"convertToInteractive('df-fadb2723-f915-4d93-ad7a-328af57df98e')\"\n",
              "              title=\"Convert this dataframe to an interactive table.\"\n",
              "              style=\"display:none;\">\n",
              "        \n",
              "  <svg xmlns=\"http://www.w3.org/2000/svg\" height=\"24px\"viewBox=\"0 0 24 24\"\n",
              "       width=\"24px\">\n",
              "    <path d=\"M0 0h24v24H0V0z\" fill=\"none\"/>\n",
              "    <path d=\"M18.56 5.44l.94 2.06.94-2.06 2.06-.94-2.06-.94-.94-2.06-.94 2.06-2.06.94zm-11 1L8.5 8.5l.94-2.06 2.06-.94-2.06-.94L8.5 2.5l-.94 2.06-2.06.94zm10 10l.94 2.06.94-2.06 2.06-.94-2.06-.94-.94-2.06-.94 2.06-2.06.94z\"/><path d=\"M17.41 7.96l-1.37-1.37c-.4-.4-.92-.59-1.43-.59-.52 0-1.04.2-1.43.59L10.3 9.45l-7.72 7.72c-.78.78-.78 2.05 0 2.83L4 21.41c.39.39.9.59 1.41.59.51 0 1.02-.2 1.41-.59l7.78-7.78 2.81-2.81c.8-.78.8-2.07 0-2.86zM5.41 20L4 18.59l7.72-7.72 1.47 1.35L5.41 20z\"/>\n",
              "  </svg>\n",
              "      </button>\n",
              "      \n",
              "  <style>\n",
              "    .colab-df-container {\n",
              "      display:flex;\n",
              "      flex-wrap:wrap;\n",
              "      gap: 12px;\n",
              "    }\n",
              "\n",
              "    .colab-df-convert {\n",
              "      background-color: #E8F0FE;\n",
              "      border: none;\n",
              "      border-radius: 50%;\n",
              "      cursor: pointer;\n",
              "      display: none;\n",
              "      fill: #1967D2;\n",
              "      height: 32px;\n",
              "      padding: 0 0 0 0;\n",
              "      width: 32px;\n",
              "    }\n",
              "\n",
              "    .colab-df-convert:hover {\n",
              "      background-color: #E2EBFA;\n",
              "      box-shadow: 0px 1px 2px rgba(60, 64, 67, 0.3), 0px 1px 3px 1px rgba(60, 64, 67, 0.15);\n",
              "      fill: #174EA6;\n",
              "    }\n",
              "\n",
              "    [theme=dark] .colab-df-convert {\n",
              "      background-color: #3B4455;\n",
              "      fill: #D2E3FC;\n",
              "    }\n",
              "\n",
              "    [theme=dark] .colab-df-convert:hover {\n",
              "      background-color: #434B5C;\n",
              "      box-shadow: 0px 1px 3px 1px rgba(0, 0, 0, 0.15);\n",
              "      filter: drop-shadow(0px 1px 2px rgba(0, 0, 0, 0.3));\n",
              "      fill: #FFFFFF;\n",
              "    }\n",
              "  </style>\n",
              "\n",
              "      <script>\n",
              "        const buttonEl =\n",
              "          document.querySelector('#df-fadb2723-f915-4d93-ad7a-328af57df98e button.colab-df-convert');\n",
              "        buttonEl.style.display =\n",
              "          google.colab.kernel.accessAllowed ? 'block' : 'none';\n",
              "\n",
              "        async function convertToInteractive(key) {\n",
              "          const element = document.querySelector('#df-fadb2723-f915-4d93-ad7a-328af57df98e');\n",
              "          const dataTable =\n",
              "            await google.colab.kernel.invokeFunction('convertToInteractive',\n",
              "                                                     [key], {});\n",
              "          if (!dataTable) return;\n",
              "\n",
              "          const docLinkHtml = 'Like what you see? Visit the ' +\n",
              "            '<a target=\"_blank\" href=https://colab.research.google.com/notebooks/data_table.ipynb>data table notebook</a>'\n",
              "            + ' to learn more about interactive tables.';\n",
              "          element.innerHTML = '';\n",
              "          dataTable['output_type'] = 'display_data';\n",
              "          await google.colab.output.renderOutput(dataTable, element);\n",
              "          const docLink = document.createElement('div');\n",
              "          docLink.innerHTML = docLinkHtml;\n",
              "          element.appendChild(docLink);\n",
              "        }\n",
              "      </script>\n",
              "    </div>\n",
              "  </div>\n",
              "  "
            ]
          },
          "metadata": {},
          "execution_count": 127
        }
      ]
    },
    {
      "cell_type": "code",
      "source": [
        "def create_soup(x):\n",
        "    return x['title']+ ' ' + x['director'] + ' ' + x['cast'] + ' ' +x['listed_in']+' '+ x['description']"
      ],
      "metadata": {
        "id": "POmG6W68ZkRA"
      },
      "execution_count": null,
      "outputs": []
    },
    {
      "cell_type": "code",
      "source": [
        "filledna['soup'] = filledna.apply(create_soup, axis=1)\n",
        "filledna.head(2)"
      ],
      "metadata": {
        "colab": {
          "base_uri": "https://localhost:8080/",
          "height": 211
        },
        "id": "Epu1sjbpaXHc",
        "outputId": "5b09ca2e-348f-460c-dc8a-36955c3fe5b1"
      },
      "execution_count": null,
      "outputs": [
        {
          "output_type": "execute_result",
          "data": {
            "text/plain": [
              "               title        director  \\\n",
              "0  dickjohnsonisdead  kirstenjohnson   \n",
              "1        blood&water                   \n",
              "\n",
              "                                                cast  \\\n",
              "0                                                      \n",
              "1  amaqamata,khosingema,gailmabalane,thabangmolab...   \n",
              "\n",
              "                                   listed_in  \\\n",
              "0                              documentaries   \n",
              "1  internationaltvshows,tvdramas,tvmysteries   \n",
              "\n",
              "                                         description  \\\n",
              "0  asherfathernearstheendofhislife,filmmakerkirst...   \n",
              "1  aftercrossingpathsataparty,acapetownteensetsou...   \n",
              "\n",
              "                                                soup  \n",
              "0  dickjohnsonisdead kirstenjohnson  documentarie...  \n",
              "1  blood&water  amaqamata,khosingema,gailmabalane...  "
            ],
            "text/html": [
              "\n",
              "  <div id=\"df-db96e1f4-977c-4fb5-bb53-c2951582aab3\">\n",
              "    <div class=\"colab-df-container\">\n",
              "      <div>\n",
              "<style scoped>\n",
              "    .dataframe tbody tr th:only-of-type {\n",
              "        vertical-align: middle;\n",
              "    }\n",
              "\n",
              "    .dataframe tbody tr th {\n",
              "        vertical-align: top;\n",
              "    }\n",
              "\n",
              "    .dataframe thead th {\n",
              "        text-align: right;\n",
              "    }\n",
              "</style>\n",
              "<table border=\"1\" class=\"dataframe\">\n",
              "  <thead>\n",
              "    <tr style=\"text-align: right;\">\n",
              "      <th></th>\n",
              "      <th>title</th>\n",
              "      <th>director</th>\n",
              "      <th>cast</th>\n",
              "      <th>listed_in</th>\n",
              "      <th>description</th>\n",
              "      <th>soup</th>\n",
              "    </tr>\n",
              "  </thead>\n",
              "  <tbody>\n",
              "    <tr>\n",
              "      <th>0</th>\n",
              "      <td>dickjohnsonisdead</td>\n",
              "      <td>kirstenjohnson</td>\n",
              "      <td></td>\n",
              "      <td>documentaries</td>\n",
              "      <td>asherfathernearstheendofhislife,filmmakerkirst...</td>\n",
              "      <td>dickjohnsonisdead kirstenjohnson  documentarie...</td>\n",
              "    </tr>\n",
              "    <tr>\n",
              "      <th>1</th>\n",
              "      <td>blood&amp;water</td>\n",
              "      <td></td>\n",
              "      <td>amaqamata,khosingema,gailmabalane,thabangmolab...</td>\n",
              "      <td>internationaltvshows,tvdramas,tvmysteries</td>\n",
              "      <td>aftercrossingpathsataparty,acapetownteensetsou...</td>\n",
              "      <td>blood&amp;water  amaqamata,khosingema,gailmabalane...</td>\n",
              "    </tr>\n",
              "  </tbody>\n",
              "</table>\n",
              "</div>\n",
              "      <button class=\"colab-df-convert\" onclick=\"convertToInteractive('df-db96e1f4-977c-4fb5-bb53-c2951582aab3')\"\n",
              "              title=\"Convert this dataframe to an interactive table.\"\n",
              "              style=\"display:none;\">\n",
              "        \n",
              "  <svg xmlns=\"http://www.w3.org/2000/svg\" height=\"24px\"viewBox=\"0 0 24 24\"\n",
              "       width=\"24px\">\n",
              "    <path d=\"M0 0h24v24H0V0z\" fill=\"none\"/>\n",
              "    <path d=\"M18.56 5.44l.94 2.06.94-2.06 2.06-.94-2.06-.94-.94-2.06-.94 2.06-2.06.94zm-11 1L8.5 8.5l.94-2.06 2.06-.94-2.06-.94L8.5 2.5l-.94 2.06-2.06.94zm10 10l.94 2.06.94-2.06 2.06-.94-2.06-.94-.94-2.06-.94 2.06-2.06.94z\"/><path d=\"M17.41 7.96l-1.37-1.37c-.4-.4-.92-.59-1.43-.59-.52 0-1.04.2-1.43.59L10.3 9.45l-7.72 7.72c-.78.78-.78 2.05 0 2.83L4 21.41c.39.39.9.59 1.41.59.51 0 1.02-.2 1.41-.59l7.78-7.78 2.81-2.81c.8-.78.8-2.07 0-2.86zM5.41 20L4 18.59l7.72-7.72 1.47 1.35L5.41 20z\"/>\n",
              "  </svg>\n",
              "      </button>\n",
              "      \n",
              "  <style>\n",
              "    .colab-df-container {\n",
              "      display:flex;\n",
              "      flex-wrap:wrap;\n",
              "      gap: 12px;\n",
              "    }\n",
              "\n",
              "    .colab-df-convert {\n",
              "      background-color: #E8F0FE;\n",
              "      border: none;\n",
              "      border-radius: 50%;\n",
              "      cursor: pointer;\n",
              "      display: none;\n",
              "      fill: #1967D2;\n",
              "      height: 32px;\n",
              "      padding: 0 0 0 0;\n",
              "      width: 32px;\n",
              "    }\n",
              "\n",
              "    .colab-df-convert:hover {\n",
              "      background-color: #E2EBFA;\n",
              "      box-shadow: 0px 1px 2px rgba(60, 64, 67, 0.3), 0px 1px 3px 1px rgba(60, 64, 67, 0.15);\n",
              "      fill: #174EA6;\n",
              "    }\n",
              "\n",
              "    [theme=dark] .colab-df-convert {\n",
              "      background-color: #3B4455;\n",
              "      fill: #D2E3FC;\n",
              "    }\n",
              "\n",
              "    [theme=dark] .colab-df-convert:hover {\n",
              "      background-color: #434B5C;\n",
              "      box-shadow: 0px 1px 3px 1px rgba(0, 0, 0, 0.15);\n",
              "      filter: drop-shadow(0px 1px 2px rgba(0, 0, 0, 0.3));\n",
              "      fill: #FFFFFF;\n",
              "    }\n",
              "  </style>\n",
              "\n",
              "      <script>\n",
              "        const buttonEl =\n",
              "          document.querySelector('#df-db96e1f4-977c-4fb5-bb53-c2951582aab3 button.colab-df-convert');\n",
              "        buttonEl.style.display =\n",
              "          google.colab.kernel.accessAllowed ? 'block' : 'none';\n",
              "\n",
              "        async function convertToInteractive(key) {\n",
              "          const element = document.querySelector('#df-db96e1f4-977c-4fb5-bb53-c2951582aab3');\n",
              "          const dataTable =\n",
              "            await google.colab.kernel.invokeFunction('convertToInteractive',\n",
              "                                                     [key], {});\n",
              "          if (!dataTable) return;\n",
              "\n",
              "          const docLinkHtml = 'Like what you see? Visit the ' +\n",
              "            '<a target=\"_blank\" href=https://colab.research.google.com/notebooks/data_table.ipynb>data table notebook</a>'\n",
              "            + ' to learn more about interactive tables.';\n",
              "          element.innerHTML = '';\n",
              "          dataTable['output_type'] = 'display_data';\n",
              "          await google.colab.output.renderOutput(dataTable, element);\n",
              "          const docLink = document.createElement('div');\n",
              "          docLink.innerHTML = docLinkHtml;\n",
              "          element.appendChild(docLink);\n",
              "        }\n",
              "      </script>\n",
              "    </div>\n",
              "  </div>\n",
              "  "
            ]
          },
          "metadata": {},
          "execution_count": 129
        }
      ]
    },
    {
      "cell_type": "code",
      "source": [
        "from sklearn.feature_extraction.text import CountVectorizer\n",
        "from sklearn.metrics.pairwise import cosine_similarity\n",
        "\n",
        "count = CountVectorizer(stop_words='english')\n",
        "count_matrix = count.fit_transform(filledna['soup'])\n",
        "\n",
        "cosine_sim2 = cosine_similarity(count_matrix, count_matrix)"
      ],
      "metadata": {
        "id": "PD1NoayaaW8c"
      },
      "execution_count": null,
      "outputs": []
    },
    {
      "cell_type": "code",
      "source": [
        "filledna=filledna.reset_index()\n",
        "indices = pd.Series(filledna.index, index=filledna['title'])"
      ],
      "metadata": {
        "id": "anUSnhfWaWv8"
      },
      "execution_count": null,
      "outputs": []
    },
    {
      "cell_type": "code",
      "source": [
        "def get_recommendations_new(title, cosine_sim=cosine_sim2):\n",
        "    title=title.replace(' ','').lower()\n",
        "    idx = indices[title]\n",
        "\n",
        "    # Get the pairwsie similarity scores of all movies with that movie\n",
        "    sim_scores = list(enumerate(cosine_sim[idx]))\n",
        "\n",
        "    # Sort the movies based on the similarity scores\n",
        "    sim_scores = sorted(sim_scores, key=lambda x: x[1], reverse=True)\n",
        "\n",
        "    # Get the scores of the 10 most similar movies\n",
        "    sim_scores = sim_scores[1:11]\n",
        "\n",
        "    # Get the movie indices\n",
        "    movie_indices = [i[0] for i in sim_scores]\n",
        "\n",
        "    # Return the top 10 most similar movies\n",
        "    return df['title'].iloc[movie_indices]"
      ],
      "metadata": {
        "id": "sqkllrItb0J8"
      },
      "execution_count": null,
      "outputs": []
    },
    {
      "cell_type": "code",
      "source": [
        "filledna.tail()"
      ],
      "metadata": {
        "colab": {
          "base_uri": "https://localhost:8080/",
          "height": 392
        },
        "id": "f4YRZyJgdkZa",
        "outputId": "a1954ab6-1a07-45b5-866d-73139d23beaa"
      },
      "execution_count": null,
      "outputs": [
        {
          "output_type": "execute_result",
          "data": {
            "text/plain": [
              "      index           title              director  \\\n",
              "8803   8803      zombiedumb                         \n",
              "8804   8804      zombieland        rubenfleischer   \n",
              "8805   8805            zoom           peterhewitt   \n",
              "8806   8806          zubaan            mozezsingh   \n",
              "8807   8807  taarezameenpar  aamirkhan,amolegupte   \n",
              "\n",
              "                                                   cast  \\\n",
              "8803                                                      \n",
              "8804  jesseeisenberg,woodyharrelson,emmastone,abigai...   \n",
              "8805  timallen,courteneycox,chevychase,katemara,ryan...   \n",
              "8806  vickykaushal,sarah-janedias,raaghavchanana,man...   \n",
              "8807                           aamirkhan,darsheelsafary   \n",
              "\n",
              "                                      listed_in  \\\n",
              "8803           kids'tv,koreantvshows,tvcomedies   \n",
              "8804                      comedies,horrormovies   \n",
              "8805             children&familymovies,comedies   \n",
              "8806  dramas,internationalmovies,music&musicals   \n",
              "8807                        childrensfilm,drama   \n",
              "\n",
              "                                            description  \\\n",
              "8803  whilelivingaloneinaspookytown,ayounggirlbefrie...   \n",
              "8804  lookingtosurviveinaworldtakenoverbyzombies,ado...   \n",
              "8805  draggedfromcivilianlife,aformersuperheromusttr...   \n",
              "8806  ascrappybutpoorboywormshiswayintoatycoon'sdysf...   \n",
              "8807  thefilmexploresthelifeandimaginationofishaan,a...   \n",
              "\n",
              "                                                   soup  \n",
              "8803  zombiedumb   kids'tv,koreantvshows,tvcomedies ...  \n",
              "8804  zombieland rubenfleischer jesseeisenberg,woody...  \n",
              "8805  zoom peterhewitt timallen,courteneycox,chevych...  \n",
              "8806  zubaan mozezsingh vickykaushal,sarah-janedias,...  \n",
              "8807  taarezameenpar aamirkhan,amolegupte aamirkhan,...  "
            ],
            "text/html": [
              "\n",
              "  <div id=\"df-7bd10e22-8fab-455d-98c8-9ae71ce8b2d9\">\n",
              "    <div class=\"colab-df-container\">\n",
              "      <div>\n",
              "<style scoped>\n",
              "    .dataframe tbody tr th:only-of-type {\n",
              "        vertical-align: middle;\n",
              "    }\n",
              "\n",
              "    .dataframe tbody tr th {\n",
              "        vertical-align: top;\n",
              "    }\n",
              "\n",
              "    .dataframe thead th {\n",
              "        text-align: right;\n",
              "    }\n",
              "</style>\n",
              "<table border=\"1\" class=\"dataframe\">\n",
              "  <thead>\n",
              "    <tr style=\"text-align: right;\">\n",
              "      <th></th>\n",
              "      <th>index</th>\n",
              "      <th>title</th>\n",
              "      <th>director</th>\n",
              "      <th>cast</th>\n",
              "      <th>listed_in</th>\n",
              "      <th>description</th>\n",
              "      <th>soup</th>\n",
              "    </tr>\n",
              "  </thead>\n",
              "  <tbody>\n",
              "    <tr>\n",
              "      <th>8803</th>\n",
              "      <td>8803</td>\n",
              "      <td>zombiedumb</td>\n",
              "      <td></td>\n",
              "      <td></td>\n",
              "      <td>kids'tv,koreantvshows,tvcomedies</td>\n",
              "      <td>whilelivingaloneinaspookytown,ayounggirlbefrie...</td>\n",
              "      <td>zombiedumb   kids'tv,koreantvshows,tvcomedies ...</td>\n",
              "    </tr>\n",
              "    <tr>\n",
              "      <th>8804</th>\n",
              "      <td>8804</td>\n",
              "      <td>zombieland</td>\n",
              "      <td>rubenfleischer</td>\n",
              "      <td>jesseeisenberg,woodyharrelson,emmastone,abigai...</td>\n",
              "      <td>comedies,horrormovies</td>\n",
              "      <td>lookingtosurviveinaworldtakenoverbyzombies,ado...</td>\n",
              "      <td>zombieland rubenfleischer jesseeisenberg,woody...</td>\n",
              "    </tr>\n",
              "    <tr>\n",
              "      <th>8805</th>\n",
              "      <td>8805</td>\n",
              "      <td>zoom</td>\n",
              "      <td>peterhewitt</td>\n",
              "      <td>timallen,courteneycox,chevychase,katemara,ryan...</td>\n",
              "      <td>children&amp;familymovies,comedies</td>\n",
              "      <td>draggedfromcivilianlife,aformersuperheromusttr...</td>\n",
              "      <td>zoom peterhewitt timallen,courteneycox,chevych...</td>\n",
              "    </tr>\n",
              "    <tr>\n",
              "      <th>8806</th>\n",
              "      <td>8806</td>\n",
              "      <td>zubaan</td>\n",
              "      <td>mozezsingh</td>\n",
              "      <td>vickykaushal,sarah-janedias,raaghavchanana,man...</td>\n",
              "      <td>dramas,internationalmovies,music&amp;musicals</td>\n",
              "      <td>ascrappybutpoorboywormshiswayintoatycoon'sdysf...</td>\n",
              "      <td>zubaan mozezsingh vickykaushal,sarah-janedias,...</td>\n",
              "    </tr>\n",
              "    <tr>\n",
              "      <th>8807</th>\n",
              "      <td>8807</td>\n",
              "      <td>taarezameenpar</td>\n",
              "      <td>aamirkhan,amolegupte</td>\n",
              "      <td>aamirkhan,darsheelsafary</td>\n",
              "      <td>childrensfilm,drama</td>\n",
              "      <td>thefilmexploresthelifeandimaginationofishaan,a...</td>\n",
              "      <td>taarezameenpar aamirkhan,amolegupte aamirkhan,...</td>\n",
              "    </tr>\n",
              "  </tbody>\n",
              "</table>\n",
              "</div>\n",
              "      <button class=\"colab-df-convert\" onclick=\"convertToInteractive('df-7bd10e22-8fab-455d-98c8-9ae71ce8b2d9')\"\n",
              "              title=\"Convert this dataframe to an interactive table.\"\n",
              "              style=\"display:none;\">\n",
              "        \n",
              "  <svg xmlns=\"http://www.w3.org/2000/svg\" height=\"24px\"viewBox=\"0 0 24 24\"\n",
              "       width=\"24px\">\n",
              "    <path d=\"M0 0h24v24H0V0z\" fill=\"none\"/>\n",
              "    <path d=\"M18.56 5.44l.94 2.06.94-2.06 2.06-.94-2.06-.94-.94-2.06-.94 2.06-2.06.94zm-11 1L8.5 8.5l.94-2.06 2.06-.94-2.06-.94L8.5 2.5l-.94 2.06-2.06.94zm10 10l.94 2.06.94-2.06 2.06-.94-2.06-.94-.94-2.06-.94 2.06-2.06.94z\"/><path d=\"M17.41 7.96l-1.37-1.37c-.4-.4-.92-.59-1.43-.59-.52 0-1.04.2-1.43.59L10.3 9.45l-7.72 7.72c-.78.78-.78 2.05 0 2.83L4 21.41c.39.39.9.59 1.41.59.51 0 1.02-.2 1.41-.59l7.78-7.78 2.81-2.81c.8-.78.8-2.07 0-2.86zM5.41 20L4 18.59l7.72-7.72 1.47 1.35L5.41 20z\"/>\n",
              "  </svg>\n",
              "      </button>\n",
              "      \n",
              "  <style>\n",
              "    .colab-df-container {\n",
              "      display:flex;\n",
              "      flex-wrap:wrap;\n",
              "      gap: 12px;\n",
              "    }\n",
              "\n",
              "    .colab-df-convert {\n",
              "      background-color: #E8F0FE;\n",
              "      border: none;\n",
              "      border-radius: 50%;\n",
              "      cursor: pointer;\n",
              "      display: none;\n",
              "      fill: #1967D2;\n",
              "      height: 32px;\n",
              "      padding: 0 0 0 0;\n",
              "      width: 32px;\n",
              "    }\n",
              "\n",
              "    .colab-df-convert:hover {\n",
              "      background-color: #E2EBFA;\n",
              "      box-shadow: 0px 1px 2px rgba(60, 64, 67, 0.3), 0px 1px 3px 1px rgba(60, 64, 67, 0.15);\n",
              "      fill: #174EA6;\n",
              "    }\n",
              "\n",
              "    [theme=dark] .colab-df-convert {\n",
              "      background-color: #3B4455;\n",
              "      fill: #D2E3FC;\n",
              "    }\n",
              "\n",
              "    [theme=dark] .colab-df-convert:hover {\n",
              "      background-color: #434B5C;\n",
              "      box-shadow: 0px 1px 3px 1px rgba(0, 0, 0, 0.15);\n",
              "      filter: drop-shadow(0px 1px 2px rgba(0, 0, 0, 0.3));\n",
              "      fill: #FFFFFF;\n",
              "    }\n",
              "  </style>\n",
              "\n",
              "      <script>\n",
              "        const buttonEl =\n",
              "          document.querySelector('#df-7bd10e22-8fab-455d-98c8-9ae71ce8b2d9 button.colab-df-convert');\n",
              "        buttonEl.style.display =\n",
              "          google.colab.kernel.accessAllowed ? 'block' : 'none';\n",
              "\n",
              "        async function convertToInteractive(key) {\n",
              "          const element = document.querySelector('#df-7bd10e22-8fab-455d-98c8-9ae71ce8b2d9');\n",
              "          const dataTable =\n",
              "            await google.colab.kernel.invokeFunction('convertToInteractive',\n",
              "                                                     [key], {});\n",
              "          if (!dataTable) return;\n",
              "\n",
              "          const docLinkHtml = 'Like what you see? Visit the ' +\n",
              "            '<a target=\"_blank\" href=https://colab.research.google.com/notebooks/data_table.ipynb>data table notebook</a>'\n",
              "            + ' to learn more about interactive tables.';\n",
              "          element.innerHTML = '';\n",
              "          dataTable['output_type'] = 'display_data';\n",
              "          await google.colab.output.renderOutput(dataTable, element);\n",
              "          const docLink = document.createElement('div');\n",
              "          docLink.innerHTML = docLinkHtml;\n",
              "          element.appendChild(docLink);\n",
              "        }\n",
              "      </script>\n",
              "    </div>\n",
              "  </div>\n",
              "  "
            ]
          },
          "metadata": {},
          "execution_count": 143
        }
      ]
    },
    {
      "cell_type": "code",
      "source": [],
      "metadata": {
        "id": "SYIEfP5nd8zy"
      },
      "execution_count": null,
      "outputs": []
    },
    {
      "cell_type": "code",
      "source": [],
      "metadata": {
        "id": "jLPi6TbYd8u0"
      },
      "execution_count": null,
      "outputs": []
    },
    {
      "cell_type": "code",
      "source": [
        "get_recommendations_new('PK', cosine_sim)"
      ],
      "metadata": {
        "colab": {
          "base_uri": "https://localhost:8080/"
        },
        "id": "hbqjM-fxb0AL",
        "outputId": "a8fba92c-14cb-4aea-c462-a7abcd8aab77"
      },
      "execution_count": null,
      "outputs": [
        {
          "output_type": "execute_result",
          "data": {
            "text/plain": [
              "3714                                        Unbroken\n",
              "4221                           Merku Thodarchi Malai\n",
              "7129                                  Jhansi Ki Rani\n",
              "906     Have You Ever Seen Fireflies? - Theatre Play\n",
              "4306                                            ROMA\n",
              "6031                              A Clockwork Orange\n",
              "4569                        Harishchandrachi Factory\n",
              "4565                              Ek Main Aur Ekk Tu\n",
              "4700                         Bhavesh Joshi Superhero\n",
              "2148                                    The Governor\n",
              "Name: title, dtype: object"
            ]
          },
          "metadata": {},
          "execution_count": 148
        }
      ]
    },
    {
      "cell_type": "code",
      "source": [
        "get_recommendations_new('PK', cosine_sim2)"
      ],
      "metadata": {
        "colab": {
          "base_uri": "https://localhost:8080/"
        },
        "id": "ETaUecVLbz1s",
        "outputId": "7c059b7c-b29f-4b97-debb-2337a857dedb"
      },
      "execution_count": null,
      "outputs": [
        {
          "output_type": "execute_result",
          "data": {
            "text/plain": [
              "1114                           3 Idiots\n",
              "8391       The Legend of Michael Mishra\n",
              "4790                  Anthony Kaun Hai?\n",
              "6907                             Haapus\n",
              "1022                   Taare Zameen Par\n",
              "4507                              Sanju\n",
              "2720                            Dostana\n",
              "4427                    Chance Pe Dance\n",
              "6439                    Chal Dhar Pakad\n",
              "195     EMI: Liya Hai To Chukana Padega\n",
              "Name: title, dtype: object"
            ]
          },
          "metadata": {},
          "execution_count": 149
        }
      ]
    },
    {
      "cell_type": "code",
      "source": [
        "get_recommendations_new('Taare Zameen Par', cosine_sim2)"
      ],
      "metadata": {
        "colab": {
          "base_uri": "https://localhost:8080/",
          "height": 294
        },
        "id": "Iy1HKfWNcbH7",
        "outputId": "57150214-9968-475c-dc4f-5509020d8891"
      },
      "execution_count": null,
      "outputs": [
        {
          "output_type": "error",
          "ename": "ValueError",
          "evalue": "ignored",
          "traceback": [
            "\u001b[0;31m---------------------------------------------------------------------------\u001b[0m",
            "\u001b[0;31mValueError\u001b[0m                                Traceback (most recent call last)",
            "\u001b[0;32m<ipython-input-150-4f28e5bc31d0>\u001b[0m in \u001b[0;36m<module>\u001b[0;34m\u001b[0m\n\u001b[0;32m----> 1\u001b[0;31m \u001b[0mget_recommendations_new\u001b[0m\u001b[0;34m(\u001b[0m\u001b[0;34m'Taare Zameen Par'\u001b[0m\u001b[0;34m,\u001b[0m \u001b[0mcosine_sim2\u001b[0m\u001b[0;34m)\u001b[0m\u001b[0;34m\u001b[0m\u001b[0;34m\u001b[0m\u001b[0m\n\u001b[0m",
            "\u001b[0;32m<ipython-input-147-10ba784810a5>\u001b[0m in \u001b[0;36mget_recommendations_new\u001b[0;34m(title, cosine_sim)\u001b[0m\n\u001b[1;32m      7\u001b[0m \u001b[0;34m\u001b[0m\u001b[0m\n\u001b[1;32m      8\u001b[0m     \u001b[0;31m# Sort the movies based on the similarity scores\u001b[0m\u001b[0;34m\u001b[0m\u001b[0;34m\u001b[0m\u001b[0;34m\u001b[0m\u001b[0m\n\u001b[0;32m----> 9\u001b[0;31m     \u001b[0msim_scores\u001b[0m \u001b[0;34m=\u001b[0m \u001b[0msorted\u001b[0m\u001b[0;34m(\u001b[0m\u001b[0msim_scores\u001b[0m\u001b[0;34m,\u001b[0m \u001b[0mkey\u001b[0m\u001b[0;34m=\u001b[0m\u001b[0;32mlambda\u001b[0m \u001b[0mx\u001b[0m\u001b[0;34m:\u001b[0m \u001b[0mx\u001b[0m\u001b[0;34m[\u001b[0m\u001b[0;36m1\u001b[0m\u001b[0;34m]\u001b[0m\u001b[0;34m,\u001b[0m \u001b[0mreverse\u001b[0m\u001b[0;34m=\u001b[0m\u001b[0;32mTrue\u001b[0m\u001b[0;34m)\u001b[0m\u001b[0;34m\u001b[0m\u001b[0;34m\u001b[0m\u001b[0m\n\u001b[0m\u001b[1;32m     10\u001b[0m \u001b[0;34m\u001b[0m\u001b[0m\n\u001b[1;32m     11\u001b[0m     \u001b[0;31m# Get the scores of the 10 most similar movies\u001b[0m\u001b[0;34m\u001b[0m\u001b[0;34m\u001b[0m\u001b[0;34m\u001b[0m\u001b[0m\n",
            "\u001b[0;31mValueError\u001b[0m: The truth value of an array with more than one element is ambiguous. Use a.any() or a.all()"
          ]
        }
      ]
    },
    {
      "cell_type": "code",
      "source": [
        "temp = df[['type', 'release_year']]\n",
        "temp = temp.value_counts().to_frame()\n",
        "temp=temp.rename(columns={0:'counts'})\n",
        "temp.reset_index(level=[0,1],inplace=True)\n",
        "temp = pd.concat([temp[temp['type'] == 'Movie'][:10], temp[temp['type']== 'TV Show'][:10]])\n",
        "\n",
        "#temp.sort_values\n"
      ],
      "metadata": {
        "id": "tCXnS5DLBDss"
      },
      "execution_count": null,
      "outputs": []
    },
    {
      "cell_type": "code",
      "source": [
        "sns.catplot(x = 'release_year', y = 'counts', hue = 'type', data = temp, kind = 'point')"
      ],
      "metadata": {
        "id": "_wIRxa_yBDgG",
        "colab": {
          "base_uri": "https://localhost:8080/",
          "height": 383
        },
        "outputId": "084d8554-5ade-43c6-9864-5efaf38b5b14"
      },
      "execution_count": null,
      "outputs": [
        {
          "output_type": "execute_result",
          "data": {
            "text/plain": [
              "<seaborn.axisgrid.FacetGrid at 0x7f3a37544430>"
            ]
          },
          "metadata": {},
          "execution_count": 139
        },
        {
          "output_type": "display_data",
          "data": {
            "text/plain": [
              "<Figure size 447.1x360 with 1 Axes>"
            ],
            "image/png": "[encoded data removed]"
          },
          "metadata": {}
        }
      ]
    },
    {
      "cell_type": "code",
      "source": [],
      "metadata": {
        "id": "aDI6D6uoBDQZ"
      },
      "execution_count": null,
      "outputs": []
    }
  ]
}